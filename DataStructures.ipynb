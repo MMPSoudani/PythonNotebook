{
 "cells": [
  {
   "attachments": {},
   "cell_type": "markdown",
   "metadata": {},
   "source": [
    "# **6.** Data Structures"
   ]
  },
  {
   "attachments": {},
   "cell_type": "markdown",
   "metadata": {},
   "source": [
    "### **6.1.** Lists"
   ]
  },
  {
   "cell_type": "code",
   "execution_count": 219,
   "metadata": {},
   "outputs": [
    {
     "name": "stdout",
     "output_type": "stream",
     "text": [
      "<class 'list'>\n",
      "[3, 'Hello World', 6.3, False, [1, '2', 3.9]]\n",
      "0) 3\n",
      "1) Hello World\n",
      "2) 6.3\n",
      "3) False\n",
      "4) [1, '2', 3.9]\n"
     ]
    }
   ],
   "source": [
    "items = [3, \"Hello World\", 6.3, False, [1, \"2\", 3.9]]\n",
    "\n",
    "print(type(items))\n",
    "print(items)\n",
    "\n",
    "for index, item in enumerate(items):\n",
    "    print(f\"{index}) {item}\")"
   ]
  },
  {
   "cell_type": "code",
   "execution_count": 220,
   "metadata": {},
   "outputs": [
    {
     "name": "stdout",
     "output_type": "stream",
     "text": [
      "[3, 'Hello World', 6.3, False, [1, '2', 3.9]]\n",
      "False\n",
      "[1, '2', 3.9]\n",
      "['Hello World', 6.3]\n",
      "[3, 'Hello World', 6.3]\n",
      "[6.3, False, [1, '2', 3.9]]\n",
      "['Hello World', False]\n",
      "[[1, '2', 3.9], False, 6.3, 'Hello World', 3]\n"
     ]
    }
   ],
   "source": [
    "# Accessing a list\n",
    "\n",
    "print(items[:])\n",
    "print(items[3])\n",
    "print(items[-1])\n",
    "print(items[1:-2])\n",
    "print(items[:3])\n",
    "print(items[2:])\n",
    "print(items[1:4:2])\n",
    "print(items[::-1])"
   ]
  },
  {
   "cell_type": "code",
   "execution_count": 221,
   "metadata": {},
   "outputs": [
    {
     "name": "stdout",
     "output_type": "stream",
     "text": [
      "[3, 'Hello World', 6.3, False, [1, '2', 3.9]]\n",
      "[3, 'Hello World', 13579, False, [1, '2', 3.9]]\n"
     ]
    }
   ],
   "source": [
    "# Assigning a value\n",
    "\n",
    "print(items)\n",
    "items[2] = 13579\n",
    "print(items)"
   ]
  },
  {
   "cell_type": "code",
   "execution_count": 222,
   "metadata": {},
   "outputs": [
    {
     "name": "stdout",
     "output_type": "stream",
     "text": [
      "3\n",
      "Hello World\n",
      "13579\n",
      "False\n",
      "[1, '2', 3.9]\n"
     ]
    }
   ],
   "source": [
    "# Unpacking a list\n",
    "\n",
    "def print_items(*args, **kwargs):\n",
    "    for arg in args:\n",
    "        print(arg)\n",
    "\n",
    "\n",
    "print_items(*items)"
   ]
  },
  {
   "cell_type": "code",
   "execution_count": 223,
   "metadata": {},
   "outputs": [
    {
     "name": "stdout",
     "output_type": "stream",
     "text": [
      "1 - 2 - 3\n"
     ]
    }
   ],
   "source": [
    "# Unpacking a list\n",
    "\n",
    "items = [1, 2, 3]\n",
    "a, b, c = items\n",
    "print(f\"{a} - {b} - {c}\")"
   ]
  },
  {
   "cell_type": "code",
   "execution_count": 224,
   "metadata": {},
   "outputs": [
    {
     "name": "stdout",
     "output_type": "stream",
     "text": [
      "1 - 2 - [3, 4, 5, 6, 7, 8, 9]\n",
      "1 - [2, 3, 4, 5, 6, 7, 8] - 9\n"
     ]
    }
   ],
   "source": [
    "# Unpacking a list\n",
    "\n",
    "items = [1, 2, 3, 4, 5, 6, 7, 8, 9]\n",
    "a, b, *other = items\n",
    "print(f\"{a} - {b} - {other}\")\n",
    "a, *other, b = items\n",
    "print(f\"{a} - {other} - {b}\")"
   ]
  },
  {
   "cell_type": "code",
   "execution_count": 225,
   "metadata": {},
   "outputs": [
    {
     "name": "stdout",
     "output_type": "stream",
     "text": [
      "[1, 2, 3, 4, 5, 6, 7, 8, 9]\n",
      "[1, 2, 3, 4, 5, 6, 7, 8]\n",
      "[1, 2, 4, 5, 6, 7, 8]\n",
      "[1, 2, 4, 5, 7, 8]\n",
      "[1, 2]\n",
      "[]\n"
     ]
    }
   ],
   "source": [
    "# Removing from a list\n",
    "\n",
    "print(items)\n",
    "items.pop()\n",
    "print(items)\n",
    "items.pop(2)\n",
    "print(items)\n",
    "items.remove(6)\n",
    "print(items)\n",
    "del items[2:]\n",
    "print(items)\n",
    "items.clear()\n",
    "print(items)"
   ]
  },
  {
   "cell_type": "code",
   "execution_count": 226,
   "metadata": {},
   "outputs": [
    {
     "name": "stdout",
     "output_type": "stream",
     "text": [
      "[]\n",
      "[12345]\n",
      "['What???', 12345]\n"
     ]
    }
   ],
   "source": [
    "# Adding to a list\n",
    "\n",
    "print(items)\n",
    "items.append(12345)\n",
    "print(items)\n",
    "items.insert(-1, \"What???\")\n",
    "print(items)"
   ]
  },
  {
   "cell_type": "code",
   "execution_count": 227,
   "metadata": {},
   "outputs": [
    {
     "name": "stdout",
     "output_type": "stream",
     "text": [
      "0\n",
      "True is not in the list\n",
      "There are 1 12345 in the list\n"
     ]
    }
   ],
   "source": [
    "# Finding a value in the list\n",
    "\n",
    "print(items.index(\"What???\"))\n",
    "# print(items.index(True)) -> throws an error since True is not in the list\n",
    "if True in items:\n",
    "    print(items.index(True))\n",
    "else:\n",
    "    print(\"True is not in the list\")\n",
    "\n",
    "print(f\"There are {items.count(12345)} 12345 in the list\")"
   ]
  },
  {
   "cell_type": "code",
   "execution_count": 228,
   "metadata": {},
   "outputs": [
    {
     "name": "stdout",
     "output_type": "stream",
     "text": [
      "[2, 8, 1, 9, 10, 3, 6, 8, 10, 2]\n",
      "[1, 2, 2, 3, 6, 8, 8, 9, 10, 10]\n",
      "[2, 10, 6, 2, 8, 10, 1, 3, 9, 8]\n",
      "[10, 10, 9, 8, 8, 6, 3, 2, 2, 1]\n"
     ]
    }
   ],
   "source": [
    "# Sorting the list\n",
    "\n",
    "from random import shuffle, randint\n",
    "\n",
    "items = []\n",
    "\n",
    "for _ in range(10):\n",
    "    items.append(randint(0, 10))\n",
    "\n",
    "print(items)\n",
    "items.sort()\n",
    "print(items)\n",
    "shuffle(items)\n",
    "print(items)\n",
    "items = sorted(items, reverse=True)\n",
    "print(items)\n"
   ]
  },
  {
   "cell_type": "code",
   "execution_count": 229,
   "metadata": {},
   "outputs": [
    {
     "name": "stdout",
     "output_type": "stream",
     "text": [
      "[('Keyboard', 2), ('Laptop', 1), ('Monitor', 4), ('Mouse', 3)]\n",
      "[('Laptop', 1), ('Keyboard', 2), ('Mouse', 3), ('Monitor', 4)]\n"
     ]
    }
   ],
   "source": [
    "# Sorting a matrix\n",
    "\n",
    "from random import randint\n",
    "\n",
    "order_items = [(\"Laptop\", 1), (\"Mouse\", 3), (\"Keyboard\", 2), (\"Monitor\", 4)]\n",
    "print(sorted(order_items)) # sort based on the first value\n",
    "print(sorted(order_items, key=lambda x: x[1])) # sort based on the second value"
   ]
  },
  {
   "cell_type": "code",
   "execution_count": 230,
   "metadata": {},
   "outputs": [
    {
     "name": "stdout",
     "output_type": "stream",
     "text": [
      "[0, 1, 2, 3, 4, 5, 6, 7, 8]\n",
      "[1, 3, 5, 7, 9, 11, 13, 15, 17]\n",
      "[0, 1, 4, 9, 16, 25, 36, 49, 64]\n",
      "[[1, 2, 3], [2, 3, 4], [3, 4, 5], [4, 5, 6], [5, 6, 7], [6, 7, 8]]\n",
      "[0, 0, 0, 0, 0, 0, 0, 0, 0, 0]\n",
      "[0, 0, 0, 0, 0, 0, 0, 0, 0, 0, 1, 1, 1, 1, 1, 1, 1, 1, 1, 1]\n"
     ]
    }
   ],
   "source": [
    "# List comprehension\n",
    "\n",
    "items = [x for x in range(9)]\n",
    "print(items)\n",
    "items = [x for x in range(18) if x % 2 != 0]\n",
    "print(items)\n",
    "items = [x ** 2 for x in range(9)]\n",
    "print(items)\n",
    "items = [[x + y for y in range(3)] for x in range(1, 7)]\n",
    "print(items)\n",
    "items = [0] * 10\n",
    "print(items)\n",
    "items += [1] * 10\n",
    "print(items)"
   ]
  },
  {
   "cell_type": "code",
   "execution_count": 231,
   "metadata": {},
   "outputs": [
    {
     "name": "stdout",
     "output_type": "stream",
     "text": [
      "[0, 3, 6, 9, 12, 15, 18, 21, 24, 27, 30, 33, 36, 39, 42]\n",
      "['H', 'e', 'l', 'l', 'o', ' ', 'W', 'o', 'r', 'l', 'd', '!']\n"
     ]
    }
   ],
   "source": [
    "# Converting to a list\n",
    "\n",
    "print(list(range(0, 45, 3)))\n",
    "print(list(\"Hello World!\"))"
   ]
  },
  {
   "cell_type": "code",
   "execution_count": 232,
   "metadata": {},
   "outputs": [
    {
     "name": "stdout",
     "output_type": "stream",
     "text": [
      "28\n"
     ]
    }
   ],
   "source": [
    "# Getting a list length\n",
    "\n",
    "print(len(list(\"Hello Darkness My Old Friend\")))"
   ]
  },
  {
   "attachments": {},
   "cell_type": "markdown",
   "metadata": {},
   "source": [
    "### **6.2.** Map Function"
   ]
  },
  {
   "cell_type": "code",
   "execution_count": 233,
   "metadata": {},
   "outputs": [
    {
     "name": "stdout",
     "output_type": "stream",
     "text": [
      "[134.99, 48.24, 5.22, 6.79, 0.7, 0.25, 0.3, 84.84, 0.4, 874.8, 0.26, 78.42, 4.9, 0.9, 64.66, 0.92]\n",
      "[135.0, 48.0, 5.0, 7.0, 1.0, 0.0, 0.0, 85.0, 0.0, 875.0, 0.0, 78.0, 5.0, 1.0, 65.0, 1.0]\n"
     ]
    }
   ],
   "source": [
    "from random import random, choice, randint\n",
    "\n",
    "nums = [round(random() * choice([1, 10, 100, 1000]), 2) for _ in range(randint(9, 18))]\n",
    "print(nums)\n",
    "nums_ceil = map(lambda x: round(x, 0), nums)\n",
    "print(list(nums_ceil))"
   ]
  },
  {
   "cell_type": "code",
   "execution_count": 234,
   "metadata": {},
   "outputs": [
    {
     "name": "stdout",
     "output_type": "stream",
     "text": [
      "[('Laptop', 1500.0), ('GamePad', 55.99), ('Mouse and Keyboard', 125.99)]\n",
      "[1500.0, 55.99, 125.99]\n"
     ]
    }
   ],
   "source": [
    "# Extracting the second value from items\n",
    "\n",
    "items = [(\"Laptop\", 1500.00), (\"GamePad\", 55.99), (\"Mouse and Keyboard\", 125.99)]\n",
    "print(items)\n",
    "prices = map(lambda item: item[1], items)\n",
    "print(list(prices))"
   ]
  },
  {
   "attachments": {},
   "cell_type": "markdown",
   "metadata": {},
   "source": [
    "### **6.3.** Filter Function"
   ]
  },
  {
   "cell_type": "code",
   "execution_count": 235,
   "metadata": {},
   "outputs": [
    {
     "name": "stdout",
     "output_type": "stream",
     "text": [
      "[99, 15, 96, 70, 40, 55, 59, 79, 1, 17, 99, 20, 47, 63, 78, 79, 98, 75]\n",
      "[99, 15, 55, 59, 79, 1, 17, 99, 47, 63, 79, 75]\n"
     ]
    }
   ],
   "source": [
    "from random import randint\n",
    "\n",
    "nums = [randint(0, 100) for _ in range(18)]\n",
    "print(nums)\n",
    "odd_nums = filter(lambda x: x % 2 != 0, nums)\n",
    "print(list(odd_nums))"
   ]
  },
  {
   "attachments": {},
   "cell_type": "markdown",
   "metadata": {},
   "source": [
    "### **6.4.** Zip Function"
   ]
  },
  {
   "cell_type": "code",
   "execution_count": 236,
   "metadata": {},
   "outputs": [
    {
     "name": "stdout",
     "output_type": "stream",
     "text": [
      "[('a', 1, 2), ('b', 3, 4), ('c', 5, 6), ('d', 7, 8)]\n"
     ]
    }
   ],
   "source": [
    "odd_nums = [1, 3, 5, 7, 9]\n",
    "even_nums = [2, 4, 6, 8]\n",
    "\n",
    "nums = zip(\"abcd\", odd_nums, even_nums)\n",
    "print(list(nums))"
   ]
  },
  {
   "attachments": {},
   "cell_type": "markdown",
   "metadata": {},
   "source": [
    "### **6.5.** Reduce Function"
   ]
  },
  {
   "cell_type": "code",
   "execution_count": 237,
   "metadata": {},
   "outputs": [
    {
     "name": "stdout",
     "output_type": "stream",
     "text": [
      "[49, 24, 27, 1, 31, 49, 27, 16, 10]\n",
      "234\n"
     ]
    }
   ],
   "source": [
    "from functools import reduce\n",
    "from random import randint\n",
    "\n",
    "nums = [randint(0, 50) for _ in range(9)]\n",
    "print(nums)\n",
    "total = reduce(lambda x, y: x + y, nums)\n",
    "print(total)"
   ]
  },
  {
   "attachments": {},
   "cell_type": "markdown",
   "metadata": {},
   "source": [
    "### **6.6.** Stacks and Queues"
   ]
  },
  {
   "attachments": {},
   "cell_type": "markdown",
   "metadata": {},
   "source": [
    "**Stack:**\n",
    "- First in - Last out\n",
    "- Can be implemented using lists\n",
    "\n",
    "**Queues:**\n",
    "- First in - First out\n",
    "- Can be implemented using lists\n",
    "- It is more efficient to implement it using deque from the package collections"
   ]
  },
  {
   "attachments": {},
   "cell_type": "markdown",
   "metadata": {},
   "source": [
    "### **6.7.** Tuples"
   ]
  },
  {
   "cell_type": "code",
   "execution_count": 238,
   "metadata": {},
   "outputs": [
    {
     "name": "stdout",
     "output_type": "stream",
     "text": [
      "<class 'tuple'>\n",
      "(3, 1, 4, 1, 5, 9, 2, 6, 8)\n",
      "There are 2 1s in PI\n",
      "The location of 9 is 5\n"
     ]
    }
   ],
   "source": [
    "PI = 3, 1, 4, 1, 5, 9, 2, 6, 8,\n",
    "\n",
    "print(type(PI))\n",
    "print(PI)\n",
    "print(f\"There are {PI.count(1)} 1s in PI\")\n",
    "print(f\"The location of 9 is {PI.index(9)}\")"
   ]
  },
  {
   "cell_type": "code",
   "execution_count": 239,
   "metadata": {},
   "outputs": [
    {
     "name": "stdout",
     "output_type": "stream",
     "text": [
      "(1, 4, 1, 5)\n"
     ]
    }
   ],
   "source": [
    "# Slicing\n",
    "\n",
    "print(PI[1:5])"
   ]
  },
  {
   "cell_type": "code",
   "execution_count": 240,
   "metadata": {},
   "outputs": [
    {
     "name": "stdout",
     "output_type": "stream",
     "text": [
      "(3, 1, 4, 1, 5, 9, 2, 6, 8, 1, 2, 3)\n"
     ]
    }
   ],
   "source": [
    "# Concatenation\n",
    "\n",
    "print(PI + (1, 2, 3))"
   ]
  },
  {
   "cell_type": "code",
   "execution_count": 241,
   "metadata": {},
   "outputs": [
    {
     "name": "stdout",
     "output_type": "stream",
     "text": [
      "(5, 9, 2, 6, 5, 9, 2, 6)\n"
     ]
    }
   ],
   "source": [
    "# Multiplication\n",
    "\n",
    "print(PI[len(PI) // 2 : -1] * 2)"
   ]
  },
  {
   "cell_type": "code",
   "execution_count": 242,
   "metadata": {},
   "outputs": [
    {
     "name": "stdout",
     "output_type": "stream",
     "text": [
      "3\n",
      "[1, 4, 1, 5, 9, 2, 6, 8]\n"
     ]
    }
   ],
   "source": [
    "# Unpacking\n",
    "\n",
    "integer, *fraction = PI\n",
    "print(integer)\n",
    "print(fraction)"
   ]
  },
  {
   "cell_type": "code",
   "execution_count": 243,
   "metadata": {},
   "outputs": [
    {
     "name": "stdout",
     "output_type": "stream",
     "text": [
      "(13, 17, 15, 9, 17, 9, 16, 11, 9, 12, 13, 9, 12, 11, 12, 15, 13)\n"
     ]
    }
   ],
   "source": [
    "# Tuple comprehension\n",
    "\n",
    "from random import randint\n",
    "\n",
    "# without converting to a tuple, the code bellow will create a generator object\n",
    "nums = tuple(randint(9, 18) for _ in range(randint(9, 18)))\n",
    "print(nums)"
   ]
  },
  {
   "attachments": {},
   "cell_type": "markdown",
   "metadata": {},
   "source": [
    "### **6.8.** Arrays"
   ]
  },
  {
   "attachments": {},
   "cell_type": "markdown",
   "metadata": {},
   "source": [
    "* For performance and efficiency over lists\n",
    "* Have similar methods to lists\n",
    "* Must include the TypeCode of the items within the array:\n",
    "    - b / B -> signed and unsigned char of 1 bytes\n",
    "    - h / H -> signed and unsigned short of 2 bytes\n",
    "    - i / I -> signed and unsigned int of 2 bytes\n",
    "    - l / L -> signed and unsigned long of 4 bytes\n",
    "    - q / Q -> signed and unsigned long long of 8 bytes\n",
    "    - f -> float of 4 bytes\n",
    "    - d -> double of 8 bytes"
   ]
  },
  {
   "cell_type": "code",
   "execution_count": 244,
   "metadata": {},
   "outputs": [
    {
     "name": "stdout",
     "output_type": "stream",
     "text": [
      "array('I', [1, 2, 3, 4, 5, 6, 7, 8, 9])\n"
     ]
    }
   ],
   "source": [
    "from array import array\n",
    "\n",
    "nums = array(\"I\", [1, 2, 3, 4, 5, 6, 7, 8, 9])\n",
    "print(nums)"
   ]
  },
  {
   "attachments": {},
   "cell_type": "markdown",
   "metadata": {},
   "source": [
    "### **6.9.** Sets"
   ]
  },
  {
   "cell_type": "code",
   "execution_count": 245,
   "metadata": {},
   "outputs": [
    {
     "name": "stdout",
     "output_type": "stream",
     "text": [
      "{2, 3, 5, 6, '4', 8, 9, '7', '1'}\n"
     ]
    }
   ],
   "source": [
    "items = {\"1\", 2, \"1\", 3, \"4\", 5, 6, \"7\", 8, 9, \"7\"}\n",
    "print(items)"
   ]
  },
  {
   "cell_type": "code",
   "execution_count": 246,
   "metadata": {},
   "outputs": [
    {
     "name": "stdout",
     "output_type": "stream",
     "text": [
      "[1, 4, 7, 2, 8, 3, 3, 5, 5, 9, 5, 1, 1, 1, 1, 1, 9, 9]\n",
      "{1, 2, 3, 4, 5, 7, 8, 9}\n"
     ]
    }
   ],
   "source": [
    "# removing duplicates from a list\n",
    "\n",
    "from random import randint\n",
    "\n",
    "nums = [randint(1, 9) for _ in range(18)]\n",
    "print(nums)\n",
    "\n",
    "nums_set = set(nums)\n",
    "print(nums_set)"
   ]
  },
  {
   "cell_type": "code",
   "execution_count": 247,
   "metadata": {},
   "outputs": [
    {
     "name": "stdout",
     "output_type": "stream",
     "text": [
      "{1, 2, 3, 4, 5, 7, 8, 9, 10}\n"
     ]
    }
   ],
   "source": [
    "# Adding to a set\n",
    "\n",
    "nums_set.add(10)\n",
    "print(nums_set)"
   ]
  },
  {
   "cell_type": "code",
   "execution_count": 248,
   "metadata": {},
   "outputs": [
    {
     "name": "stdout",
     "output_type": "stream",
     "text": [
      "{1, 2, 3, 4, 7, 8, 9, 10}\n",
      "{2, 3, 4, 7, 8, 9, 10}\n",
      "{2, 3, 4, 7, 8, 9}\n"
     ]
    }
   ],
   "source": [
    "# Removing from a set\n",
    "\n",
    "nums_set.discard(5) # Will not throw error if item does not exists\n",
    "print(nums_set)\n",
    "\n",
    "nums_set.pop()\n",
    "print(nums_set)\n",
    "\n",
    "nums_set.remove(10) # Will throw error if item does not exits\n",
    "print(nums_set)"
   ]
  },
  {
   "cell_type": "code",
   "execution_count": 249,
   "metadata": {},
   "outputs": [
    {
     "name": "stdout",
     "output_type": "stream",
     "text": [
      "{2, 3, 4, 1, 100, 7, 8, 9, 10}\n"
     ]
    }
   ],
   "source": [
    "# Updating a set with another set\n",
    "\n",
    "nums_set.update({1, 10, 100})\n",
    "print(nums_set)"
   ]
  },
  {
   "cell_type": "code",
   "execution_count": 250,
   "metadata": {},
   "outputs": [],
   "source": [
    "set_a = {1, 2, 3, 7, 8, 9}\n",
    "set_b = {3, 4, 5, 6, 7}"
   ]
  },
  {
   "cell_type": "code",
   "execution_count": 251,
   "metadata": {},
   "outputs": [
    {
     "name": "stdout",
     "output_type": "stream",
     "text": [
      "{8, 1, 2, 9}\n",
      "{8, 1, 2, 9}\n",
      "{4, 5, 6}\n",
      "{4, 5, 6}\n"
     ]
    }
   ],
   "source": [
    "# Difference of two sets\n",
    "\n",
    "print(set_a.difference(set_b))\n",
    "print(set_a - set_b)\n",
    "# print(set_a.difference_update(set_b))\n",
    "\n",
    "print(set_b.difference(set_a))\n",
    "print(set_b - set_a)\n",
    "# print(set_b.difference_update(set_a))"
   ]
  },
  {
   "cell_type": "code",
   "execution_count": 252,
   "metadata": {},
   "outputs": [
    {
     "name": "stdout",
     "output_type": "stream",
     "text": [
      "{1, 2, 4, 5, 6, 8, 9}\n",
      "{1, 2, 4, 5, 6, 8, 9}\n",
      "{1, 2, 4, 5, 6, 8, 9}\n",
      "{1, 2, 4, 5, 6, 8, 9}\n"
     ]
    }
   ],
   "source": [
    "print(set_a.symmetric_difference(set_b))\n",
    "print(set_a ^ set_b)\n",
    "# print(set_a.symmetric_difference_update(set_b))\n",
    "\n",
    "print(set_b.symmetric_difference(set_a))\n",
    "print(set_b ^ set_a)\n",
    "# print(set_b.symmetric_difference_update(set_a))"
   ]
  },
  {
   "cell_type": "code",
   "execution_count": 253,
   "metadata": {},
   "outputs": [
    {
     "name": "stdout",
     "output_type": "stream",
     "text": [
      "{3, 7}\n",
      "{3, 7}\n",
      "{3, 7}\n",
      "{3, 7}\n"
     ]
    }
   ],
   "source": [
    "print(set_a.intersection(set_b))\n",
    "print(set_a & set_b)\n",
    "# print(set_a.intersection_update(set_b))\n",
    "\n",
    "print(set_b.intersection(set_a))\n",
    "print(set_b & set_a)\n",
    "# print(set_b.intersection_update(set_a))"
   ]
  },
  {
   "cell_type": "code",
   "execution_count": 254,
   "metadata": {},
   "outputs": [
    {
     "name": "stdout",
     "output_type": "stream",
     "text": [
      "{1, 2, 3, 4, 5, 6, 7, 8, 9}\n",
      "{1, 2, 3, 4, 5, 6, 7, 8, 9}\n"
     ]
    }
   ],
   "source": [
    "# A union of two sets\n",
    "\n",
    "print(set_a.union(set_b))\n",
    "print(set_a | set_b)"
   ]
  },
  {
   "cell_type": "code",
   "execution_count": 255,
   "metadata": {},
   "outputs": [
    {
     "name": "stdout",
     "output_type": "stream",
     "text": [
      "{0, 99, 36, 72, 9, 45, 81, 18, 54, 90, 27, 63}\n"
     ]
    }
   ],
   "source": [
    "# Set comprehension\n",
    "\n",
    "numbers = {x for x in range(100) if x % 9 == 0}\n",
    "print(numbers)"
   ]
  },
  {
   "attachments": {},
   "cell_type": "markdown",
   "metadata": {},
   "source": [
    "### **6.10.** Dictionaries"
   ]
  },
  {
   "cell_type": "code",
   "execution_count": 256,
   "metadata": {},
   "outputs": [
    {
     "name": "stdout",
     "output_type": "stream",
     "text": [
      "{'Mohammad': 1990, 'Ghofran': 1994, 'Nora': 2019}\n"
     ]
    }
   ],
   "source": [
    "# {immutable_type: any_type}\n",
    "\n",
    "birthdate_book = {\n",
    "    \"Mohammad\": 1990,\n",
    "    \"Ghofran\": 1994,\n",
    "    \"Nora\": 2019,\n",
    "}\n",
    "\n",
    "print(birthdate_book)"
   ]
  },
  {
   "cell_type": "code",
   "execution_count": 257,
   "metadata": {},
   "outputs": [
    {
     "name": "stdout",
     "output_type": "stream",
     "text": [
      "dict_items([('Mohammad', 1990), ('Ghofran', 1994), ('Nora', 2019)])\n",
      "dict_keys(['Mohammad', 'Ghofran', 'Nora'])\n",
      "dict_values([1990, 1994, 2019])\n"
     ]
    }
   ],
   "source": [
    "print(birthdate_book.items())\n",
    "print(birthdate_book.keys())\n",
    "print(birthdate_book.values())"
   ]
  },
  {
   "cell_type": "code",
   "execution_count": 258,
   "metadata": {},
   "outputs": [
    {
     "name": "stdout",
     "output_type": "stream",
     "text": [
      "{'x': 9, 'y': 18}\n"
     ]
    }
   ],
   "source": [
    "# Creating / Converting to a dictionary\n",
    "\n",
    "point = dict(x=9, y=18)\n",
    "print(point)"
   ]
  },
  {
   "cell_type": "code",
   "execution_count": 259,
   "metadata": {},
   "outputs": [
    {
     "name": "stdout",
     "output_type": "stream",
     "text": [
      "{'x': 9, 'y': 18, 'z': 3}\n",
      "{'x': 18, 'y': 3, 'z': 3, 'a': 27, 'b': 21}\n"
     ]
    }
   ],
   "source": [
    "# Updating a dictionary\n",
    "\n",
    "point[\"z\"] = 3\n",
    "print(point)\n",
    "\n",
    "point.update({\"x\" : 18, \"y\": 3, \"a\": 27, \"b\": 21})\n",
    "print(point)"
   ]
  },
  {
   "cell_type": "code",
   "execution_count": 260,
   "metadata": {},
   "outputs": [
    {
     "name": "stdout",
     "output_type": "stream",
     "text": [
      "3\n",
      "3\n",
      "0\n"
     ]
    }
   ],
   "source": [
    "# getting the value of a key\n",
    "\n",
    "print(point[\"z\"]) # will throw error if key does not exists\n",
    "print(point.get(\"z\")) # will not throw error if key does not exists\n",
    "print(point.get(\"c\", 0))"
   ]
  },
  {
   "cell_type": "code",
   "execution_count": 261,
   "metadata": {},
   "outputs": [
    {
     "name": "stdout",
     "output_type": "stream",
     "text": [
      "27\n",
      "('b', 21)\n",
      "{'y': 3, 'z': 3}\n",
      "{}\n"
     ]
    }
   ],
   "source": [
    "# removing a key: value pair\n",
    "\n",
    "print(point.pop(\"a\"))\n",
    "\n",
    "print(point.popitem())\n",
    "\n",
    "del point[\"x\"]\n",
    "print(point)\n",
    "\n",
    "point.clear()\n",
    "print(point)"
   ]
  },
  {
   "cell_type": "code",
   "execution_count": 262,
   "metadata": {},
   "outputs": [
    {
     "name": "stdout",
     "output_type": "stream",
     "text": [
      "{0: 0, 1: 1, 2: 4, 3: 9, 4: 16, 5: 25, 6: 36, 7: 49, 8: 64, 9: 81}\n",
      "{'A': 65, 'B': 66, 'C': 67, 'D': 68, 'E': 69, 'F': 70, 'G': 71, 'H': 72, 'I': 73, 'J': 74}\n"
     ]
    }
   ],
   "source": [
    "# Dictionary comprehension\n",
    "\n",
    "nums = {num: num ** 2 for num in range(10)}\n",
    "print(nums)\n",
    "\n",
    "chars = {chr(num): num for num in range(65, 75)}\n",
    "print(chars)"
   ]
  },
  {
   "cell_type": "code",
   "execution_count": 263,
   "metadata": {},
   "outputs": [
    {
     "name": "stdout",
     "output_type": "stream",
     "text": [
      "{1: 1, 2: 2, 3: 3, 4: 4, 5: 6, 6: 7}\n"
     ]
    }
   ],
   "source": [
    "# Unpacking a dictionary\n",
    "\n",
    "a = {1: 1, 2: 2, 3: 3}\n",
    "b = {3: 3, 4: 4, 5: 5}\n",
    "print({**a, **b, 5: 6, 6: 7})"
   ]
  },
  {
   "attachments": {},
   "cell_type": "markdown",
   "metadata": {},
   "source": [
    "### **6.11.** Generators"
   ]
  },
  {
   "attachments": {},
   "cell_type": "markdown",
   "metadata": {},
   "source": [
    "* Used for generating values with each iterations\n",
    "* Instead of storing the values in the memory, generate each one at a time "
   ]
  },
  {
   "cell_type": "code",
   "execution_count": 264,
   "metadata": {},
   "outputs": [
    {
     "name": "stdout",
     "output_type": "stream",
     "text": [
      "0.0001 MB\n",
      "84.96777 MB\n"
     ]
    }
   ],
   "source": [
    "from sys import getsizeof\n",
    "\n",
    "print(f\"{round(getsizeof((_ for _ in range(10000000))) / 1024 / 1024, 5)} MB\")\n",
    "print(f\"{round(getsizeof([_ for _ in range(10000000)]) / 1024 / 1024, 5)} MB\")"
   ]
  },
  {
   "cell_type": "code",
   "execution_count": 265,
   "metadata": {},
   "outputs": [
    {
     "name": "stdout",
     "output_type": "stream",
     "text": [
      "<generator object <genexpr> at 0x7fa03ecd0d60>\n"
     ]
    }
   ],
   "source": [
    "chars = (chr(num) for num in range(65, 91))\n",
    "print(chars)"
   ]
  },
  {
   "cell_type": "code",
   "execution_count": 266,
   "metadata": {},
   "outputs": [
    {
     "name": "stdout",
     "output_type": "stream",
     "text": [
      "A\n"
     ]
    }
   ],
   "source": [
    "try:\n",
    "    print(next(chars))\n",
    "except StopIteration:\n",
    "    print(f\"Stop Iteration Error: Reached the end of the generator\")"
   ]
  },
  {
   "cell_type": "code",
   "execution_count": 267,
   "metadata": {},
   "outputs": [
    {
     "name": "stdout",
     "output_type": "stream",
     "text": [
      "B, C, D, E, F, G, H, I, J, K, L, M, N, O, P, Q, R, S, T, U, V, W, X, Y, Z, "
     ]
    }
   ],
   "source": [
    "for char in chars:\n",
    "    print(char, end=\", \")"
   ]
  },
  {
   "cell_type": "code",
   "execution_count": 268,
   "metadata": {},
   "outputs": [
    {
     "name": "stdout",
     "output_type": "stream",
     "text": [
      "<generator object char_generator at 0x7fa03ecd0f20>\n",
      "A\n",
      "B, C, D, E, F, G, H, I, J, K, L, M, N, O, P, Q, R, S, T, U, V, W, X, Y, Z\n"
     ]
    }
   ],
   "source": [
    "# Create a generator function\n",
    "\n",
    "def char_generator(start=65, stop=91, step=1):\n",
    "    if start > stop:\n",
    "        step *= -1\n",
    "    \n",
    "    for number in range(start, stop, step):\n",
    "        yield chr(number)\n",
    "\n",
    "\n",
    "chars = char_generator()\n",
    "print(chars)\n",
    "print(next(chars)) # throws StopIteration error if end of generator is reached\n",
    "print(\", \".join(list(chars)))"
   ]
  },
  {
   "cell_type": "code",
   "execution_count": 269,
   "metadata": {},
   "outputs": [
    {
     "name": "stdout",
     "output_type": "stream",
     "text": [
      "{' ': 5,\n",
      " 'T': 1,\n",
      " 'a': 1,\n",
      " 'c': 1,\n",
      " 'e': 3,\n",
      " 'h': 1,\n",
      " 'i': 5,\n",
      " 'm': 2,\n",
      " 'n': 3,\n",
      " 'o': 3,\n",
      " 'q': 1,\n",
      " 'r': 1,\n",
      " 's': 3,\n",
      " 't': 2,\n",
      " 'u': 1,\n",
      " 'v': 1,\n",
      " 'w': 1}\n",
      "The letter i is the most repeated with the count of 5\n"
     ]
    }
   ],
   "source": [
    "# Count the number of character frequencies in a sentence\n",
    "\n",
    "from pprint import pprint\n",
    "\n",
    "\n",
    "sentence = \"This is a common interview question\"\n",
    "\n",
    "frequencies = {}\n",
    "for char in sentence:\n",
    "    frequencies[char] = frequencies.get(char, 0) + 1\n",
    "\n",
    "pprint(frequencies)\n",
    "\n",
    "frequencies.pop(\" \")\n",
    "most_frequent = max(frequencies.items(), key=lambda x: x[1])\n",
    "print(f\"The letter {most_frequent[0]} is the most repeated with the count of {most_frequent[1]}\")"
   ]
  }
 ],
 "metadata": {
  "kernelspec": {
   "display_name": "Python 3",
   "language": "python",
   "name": "python3"
  },
  "language_info": {
   "codemirror_mode": {
    "name": "ipython",
    "version": 3
   },
   "file_extension": ".py",
   "mimetype": "text/x-python",
   "name": "python",
   "nbconvert_exporter": "python",
   "pygments_lexer": "ipython3",
   "version": "3.10.6 (main, Nov 14 2022, 16:10:14) [GCC 11.3.0]"
  },
  "orig_nbformat": 4,
  "vscode": {
   "interpreter": {
    "hash": "916dbcbb3f70747c44a77c7bcd40155683ae19c65e1c03b4aa3499c5328201f1"
   }
  }
 },
 "nbformat": 4,
 "nbformat_minor": 2
}
