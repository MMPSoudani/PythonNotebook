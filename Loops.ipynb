{
 "cells": [
  {
   "attachments": {},
   "cell_type": "markdown",
   "metadata": {},
   "source": [
    "# **4.** Python Basics: Loops"
   ]
  },
  {
   "attachments": {},
   "cell_type": "markdown",
   "metadata": {},
   "source": [
    "Loops are used to iterate over iterables<br>\n",
    "**Iterables**: Any object that consist of more than one value that each value can be separated from the rest\n",
    "- example of iterables: string, lists, tuples, sets, dictionaries, ranges and generators"
   ]
  },
  {
   "attachments": {},
   "cell_type": "markdown",
   "metadata": {},
   "source": [
    "### **4.1.** For Loops"
   ]
  },
  {
   "attachments": {},
   "cell_type": "markdown",
   "metadata": {},
   "source": [
    "For loops are used to iterate over a set of finite values or loop a finite number of times"
   ]
  },
  {
   "cell_type": "code",
   "execution_count": 200,
   "metadata": {},
   "outputs": [
    {
     "name": "stdout",
     "output_type": "stream",
     "text": [
      "80 - P\n",
      "121 - y\n",
      "116 - t\n",
      "104 - h\n",
      "111 - o\n",
      "110 - n\n"
     ]
    }
   ],
   "source": [
    "for char in \"Python\":\n",
    "    print(f\"{ord(char)} - {char}\")"
   ]
  },
  {
   "cell_type": "code",
   "execution_count": 201,
   "metadata": {},
   "outputs": [
    {
     "name": "stdout",
     "output_type": "stream",
     "text": [
      "3\n",
      "3.3\n",
      "Python\n",
      "True\n"
     ]
    }
   ],
   "source": [
    "for item in [3, 3.3, \"Python\", True]:\n",
    "    print(item)"
   ]
  },
  {
   "cell_type": "code",
   "execution_count": 202,
   "metadata": {},
   "outputs": [
    {
     "name": "stdout",
     "output_type": "stream",
     "text": [
      "0) 1\n",
      "1) 4\n",
      "2) 7\n",
      "3) 10\n",
      "4) 13\n",
      "5) 16\n",
      "6) 19\n",
      "7) 22\n",
      "8) 25\n",
      "9) 28\n"
     ]
    }
   ],
   "source": [
    "for index, number in enumerate(range(1, 30, 3)):\n",
    "    print(f\"{index}) {number}\")"
   ]
  },
  {
   "attachments": {},
   "cell_type": "markdown",
   "metadata": {},
   "source": [
    "### **4.2.** Controlling the Flow"
   ]
  },
  {
   "cell_type": "code",
   "execution_count": 203,
   "metadata": {},
   "outputs": [
    {
     "name": "stdout",
     "output_type": "stream",
     "text": [
      "10\n",
      "9\n",
      "8\n",
      "7\n",
      "6\n",
      "5\n",
      "4\n",
      "3\n",
      "2\n",
      "1\n",
      "0\n",
      "Left Off\n"
     ]
    }
   ],
   "source": [
    "from random import choice\n",
    "\n",
    "stop_at_five = choice([True, False])\n",
    "skip_five = choice([True, False])\n",
    "\n",
    "for number in range(10, -1, -1):\n",
    "    if skip_five and number == 5:\n",
    "        print(\"Skipped\")\n",
    "        continue # else will be executed\n",
    "    if stop_at_five and number == 5:\n",
    "        print(\"Stopped\")\n",
    "        break # else will no be executed\n",
    "    print(number)\n",
    "else:\n",
    "    print(\"Left Off\")"
   ]
  },
  {
   "attachments": {},
   "cell_type": "markdown",
   "metadata": {},
   "source": [
    "### **4.3.** Nested Loops"
   ]
  },
  {
   "cell_type": "code",
   "execution_count": 204,
   "metadata": {},
   "outputs": [
    {
     "name": "stdout",
     "output_type": "stream",
     "text": [
      "         *\n",
      "        **\n",
      "       ***\n",
      "      ****\n",
      "     *****\n",
      "    ******\n",
      "   *******\n",
      "  ********\n",
      " *********\n"
     ]
    }
   ],
   "source": [
    "for row in range(9):\n",
    "    print(\" \" * (9 - row), end=\"\")\n",
    "    for column in range(row + 1):\n",
    "        print(\"*\", end=\"\")\n",
    "    print()"
   ]
  },
  {
   "attachments": {},
   "cell_type": "markdown",
   "metadata": {},
   "source": [
    "### **4.4.** While Loops"
   ]
  },
  {
   "cell_type": "markdown",
   "metadata": {},
   "source": [
    "while loops are mostly used when the number of times to loop is not defined or is unknown.<br>\n",
    "**Infinite Loops**: In a while loop if the condition is not set properly, or break is not used, the loop will continue non-stop"
   ]
  },
  {
   "cell_type": "code",
   "execution_count": 205,
   "metadata": {},
   "outputs": [],
   "source": [
    "from random import choice\n",
    "\n",
    "while True:\n",
    "    user_input = choice([\"Zero\", 1, \"Two\", 3, \"Four\", 5, \"Six\", 7, \"Eight\", 9])\n",
    "    if isinstance(user_input, int):\n",
    "        break\n",
    "    print(\"Only numbers are accepted\")"
   ]
  },
  {
   "cell_type": "code",
   "execution_count": 206,
   "metadata": {},
   "outputs": [
    {
     "name": "stdout",
     "output_type": "stream",
     "text": [
      "*\n",
      "**\n",
      "***\n",
      "****\n",
      "*****\n",
      "******\n",
      "*******\n",
      "********\n",
      "*********\n"
     ]
    }
   ],
   "source": [
    "row = 9\n",
    "while row > 0:\n",
    "    column = 9\n",
    "    while column - row >= 0:\n",
    "        print(\"*\", end=\"\")\n",
    "        column -= 1\n",
    "    \n",
    "    print()\n",
    "    row -= 1"
   ]
  }
 ],
 "metadata": {
  "kernelspec": {
   "display_name": "Python 3",
   "language": "python",
   "name": "python3"
  },
  "language_info": {
   "codemirror_mode": {
    "name": "ipython",
    "version": 3
   },
   "file_extension": ".py",
   "mimetype": "text/x-python",
   "name": "python",
   "nbconvert_exporter": "python",
   "pygments_lexer": "ipython3",
   "version": "3.10.6 (main, Nov 14 2022, 16:10:14) [GCC 11.3.0]"
  },
  "orig_nbformat": 4,
  "vscode": {
   "interpreter": {
    "hash": "916dbcbb3f70747c44a77c7bcd40155683ae19c65e1c03b4aa3499c5328201f1"
   }
  }
 },
 "nbformat": 4,
 "nbformat_minor": 2
}
