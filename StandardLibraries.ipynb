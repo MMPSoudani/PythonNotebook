{
 "cells": [
  {
   "attachments": {},
   "cell_type": "markdown",
   "metadata": {},
   "source": [
    "# **10.** Standard Libraries"
   ]
  },
  {
   "attachments": {},
   "cell_type": "markdown",
   "metadata": {},
   "source": [
    "### 10.1. Path"
   ]
  },
  {
   "attachments": {},
   "cell_type": "markdown",
   "metadata": {},
   "source": [
    "#### **10.1.1.** Overview"
   ]
  },
  {
   "attachments": {},
   "cell_type": "markdown",
   "metadata": {},
   "source": [
    "* pathlib is the basic class for two sub classes:\n",
    "    1. PosixPath -> for Unix based operating Systems\n",
    "    2. WindowsPath -> for Windows based Operating Systems"
   ]
  },
  {
   "cell_type": "code",
   "execution_count": 321,
   "metadata": {},
   "outputs": [
    {
     "data": {
      "text/plain": [
       "PosixPath('usr/local/bin')"
      ]
     },
     "execution_count": 321,
     "metadata": {},
     "output_type": "execute_result"
    }
   ],
   "source": [
    "# Creating a Path object\n",
    "\n",
    "from pathlib import Path\n",
    "\n",
    "Path(r\"C:\\users\\MMPSoudani\\appdata\")\n",
    "Path(\"/usr/local/bin/\")\n",
    "Path()\n",
    "Path(\"~/Downloads/Compressed\")\n",
    "Path.home()\n",
    "Path(\"~\") / \"Documents\"\n",
    "Path(\"usr\") / Path(\"local\") / Path(\"bin\")\n",
    "Path.joinpath(Path(\"usr\"), Path(\"local\"), \"bin\")"
   ]
  },
  {
   "cell_type": "code",
   "execution_count": 322,
   "metadata": {},
   "outputs": [],
   "source": [
    "path = Path(\"/media/mmpsudani/Programs/Educations/Programming/CodeWithMosh_Python/PythonHandbook.ipynb\")"
   ]
  },
  {
   "cell_type": "code",
   "execution_count": 323,
   "metadata": {},
   "outputs": [
    {
     "name": "stdout",
     "output_type": "stream",
     "text": [
      "True\n"
     ]
    }
   ],
   "source": [
    "# Check if path exists\n",
    "\n",
    "print(path.exists())"
   ]
  },
  {
   "cell_type": "code",
   "execution_count": 324,
   "metadata": {},
   "outputs": [
    {
     "name": "stdout",
     "output_type": "stream",
     "text": [
      "True\n"
     ]
    }
   ],
   "source": [
    "# Check if destination is a file\n",
    "\n",
    "print(path.is_file())"
   ]
  },
  {
   "cell_type": "code",
   "execution_count": 325,
   "metadata": {},
   "outputs": [
    {
     "name": "stdout",
     "output_type": "stream",
     "text": [
      "False\n"
     ]
    }
   ],
   "source": [
    "# Check if destination is a directory\n",
    "\n",
    "print(path.is_dir())"
   ]
  },
  {
   "cell_type": "code",
   "execution_count": 326,
   "metadata": {},
   "outputs": [
    {
     "name": "stdout",
     "output_type": "stream",
     "text": [
      "PythonHandbook.ipynb\n"
     ]
    }
   ],
   "source": [
    "# Get destination name\n",
    "\n",
    "print(path.name)"
   ]
  },
  {
   "cell_type": "code",
   "execution_count": 327,
   "metadata": {},
   "outputs": [
    {
     "name": "stdout",
     "output_type": "stream",
     "text": [
      "PythonHandbook\n"
     ]
    }
   ],
   "source": [
    "# Get destination stem\n",
    "\n",
    "print(path.stem)"
   ]
  },
  {
   "cell_type": "code",
   "execution_count": 328,
   "metadata": {},
   "outputs": [
    {
     "name": "stdout",
     "output_type": "stream",
     "text": [
      ".ipynb\n"
     ]
    }
   ],
   "source": [
    "# Get destination extension\n",
    "\n",
    "print(path.suffix)"
   ]
  },
  {
   "cell_type": "code",
   "execution_count": 329,
   "metadata": {},
   "outputs": [
    {
     "name": "stdout",
     "output_type": "stream",
     "text": [
      "/media/mmpsudani/Programs/Educations/Programming/CodeWithMosh_Python\n"
     ]
    }
   ],
   "source": [
    "# Get destination parent\n",
    "\n",
    "print(path.parent)"
   ]
  },
  {
   "cell_type": "code",
   "execution_count": 330,
   "metadata": {},
   "outputs": [
    {
     "name": "stdout",
     "output_type": "stream",
     "text": [
      "/media/mmpsudani/Programs/Educations/Programming/CodeWithMosh_Python/file.txt\n"
     ]
    }
   ],
   "source": [
    "# Get a new path with a new name but the same parent\n",
    "\n",
    "new_path = path.with_name(\"file.txt\")\n",
    "print(new_path)"
   ]
  },
  {
   "cell_type": "code",
   "execution_count": 331,
   "metadata": {},
   "outputs": [
    {
     "name": "stdout",
     "output_type": "stream",
     "text": [
      "/media/mmpsudani/Programs/Educations/Programming/CodeWithMosh_Python/PythonHandbook.txt\n"
     ]
    }
   ],
   "source": [
    "# Get a new path with a new extension but the same name and parent\n",
    "\n",
    "new_path = path.with_suffix(\".txt\")\n",
    "print(new_path)"
   ]
  },
  {
   "cell_type": "code",
   "execution_count": 332,
   "metadata": {},
   "outputs": [
    {
     "name": "stdout",
     "output_type": "stream",
     "text": [
      "/media/mmpsudani/Programs/Educations/Programming/CodeWithMosh_Python/PythonHandbook.ipynb\n"
     ]
    }
   ],
   "source": [
    "# Get the absolute path\n",
    "\n",
    "print(path.absolute())"
   ]
  },
  {
   "attachments": {},
   "cell_type": "markdown",
   "metadata": {},
   "source": [
    "#### **10.1.2.** Directories"
   ]
  },
  {
   "cell_type": "code",
   "execution_count": 333,
   "metadata": {},
   "outputs": [],
   "source": [
    "path = Path(\"/home/mmpsudani/Documents/temp\")"
   ]
  },
  {
   "cell_type": "code",
   "execution_count": 334,
   "metadata": {},
   "outputs": [
    {
     "name": "stdout",
     "output_type": "stream",
     "text": [
      "False\n"
     ]
    }
   ],
   "source": [
    "print(path.exists())"
   ]
  },
  {
   "cell_type": "code",
   "execution_count": 335,
   "metadata": {},
   "outputs": [
    {
     "name": "stdout",
     "output_type": "stream",
     "text": [
      "temp was created successfully\n"
     ]
    }
   ],
   "source": [
    "# Creating a directory if it does not exists\n",
    "\n",
    "try:\n",
    "    path.mkdir()\n",
    "    print(\"temp was created successfully\")\n",
    "except FileExistsError as e:\n",
    "    print(e)"
   ]
  },
  {
   "cell_type": "code",
   "execution_count": 336,
   "metadata": {},
   "outputs": [
    {
     "name": "stdout",
     "output_type": "stream",
     "text": [
      "File renamed successfully\n",
      "[PosixPath('/home/mmpsudani/Documents/data.csv'), PosixPath('/home/mmpsudani/Documents/TEMPORARY'), PosixPath('/home/mmpsudani/Documents/cards.json')]\n"
     ]
    }
   ],
   "source": [
    "# Renaming a file or a directory if it exists\n",
    "\n",
    "try:\n",
    "    path.rename(path.parent / \"TEMPORARY\")\n",
    "    print(\"File renamed successfully\")\n",
    "    print(list(path.parent.iterdir()))\n",
    "except FileNotFoundError as e:\n",
    "    print(e)"
   ]
  },
  {
   "cell_type": "code",
   "execution_count": 337,
   "metadata": {},
   "outputs": [
    {
     "name": "stdout",
     "output_type": "stream",
     "text": [
      "[Errno 2] No such file or directory: '/home/mmpsudani/Documents/temp'\n"
     ]
    }
   ],
   "source": [
    "# Removing a directory if it exists\n",
    "\n",
    "try:\n",
    "    path.rmdir()\n",
    "    print(\"TEMP was removed successfully\")\n",
    "except FileNotFoundError as e:\n",
    "    print(e)"
   ]
  },
  {
   "cell_type": "code",
   "execution_count": 338,
   "metadata": {},
   "outputs": [],
   "source": [
    "try:\n",
    "    Path.joinpath(path.parent, \"TEMPORARY\").rmdir()\n",
    "except FileNotFoundError as e:\n",
    "    print(e)"
   ]
  },
  {
   "cell_type": "code",
   "execution_count": 339,
   "metadata": {},
   "outputs": [
    {
     "name": "stdout",
     "output_type": "stream",
     "text": [
      "/home/mmpsudani/Documents/data.csv\n",
      "/home/mmpsudani/Documents/cards.json\n"
     ]
    }
   ],
   "source": [
    "# Lists all the files and directories if it exists\n",
    "\n",
    "try:\n",
    "    for item in path.parent.iterdir():\n",
    "        print(item)\n",
    "except FileNotFoundError as e:\n",
    "    print(e)"
   ]
  },
  {
   "cell_type": "code",
   "execution_count": 340,
   "metadata": {},
   "outputs": [],
   "source": [
    "# Using glob to add patterns\n",
    "\n",
    "try:\n",
    "    for item in path.parent.glob(pattern=\"*i*\"):\n",
    "        print(item)\n",
    "except FileNotFoundError as e:\n",
    "    print(e)"
   ]
  },
  {
   "cell_type": "code",
   "execution_count": 341,
   "metadata": {},
   "outputs": [
    {
     "name": "stdout",
     "output_type": "stream",
     "text": [
      "/home/mmpsudani/Documents\n"
     ]
    }
   ],
   "source": [
    "# Using rglob to add patterns and search recursively\n",
    "\n",
    "try:\n",
    "    for item in path.parent.rglob(pattern=\"\"):\n",
    "        print(item)\n",
    "except FileNotFoundError as e:\n",
    "    print(e)"
   ]
  },
  {
   "attachments": {},
   "cell_type": "markdown",
   "metadata": {},
   "source": [
    "#### **10.1.2.** Files"
   ]
  },
  {
   "cell_type": "code",
   "execution_count": 342,
   "metadata": {},
   "outputs": [],
   "source": [
    "path = Path(\"/home/mmpsudani/Documents/info.txt\")"
   ]
  },
  {
   "cell_type": "code",
   "execution_count": 343,
   "metadata": {},
   "outputs": [
    {
     "data": {
      "text/plain": [
       "False"
      ]
     },
     "execution_count": 343,
     "metadata": {},
     "output_type": "execute_result"
    }
   ],
   "source": [
    "path.exists()"
   ]
  },
  {
   "cell_type": "code",
   "execution_count": 344,
   "metadata": {},
   "outputs": [
    {
     "name": "stdout",
     "output_type": "stream",
     "text": [
      "True\n"
     ]
    }
   ],
   "source": [
    "# Creates a file with the given path, name and extension\n",
    "\n",
    "path.touch()\n",
    "print(path.exists())"
   ]
  },
  {
   "cell_type": "code",
   "execution_count": 345,
   "metadata": {},
   "outputs": [
    {
     "name": "stdout",
     "output_type": "stream",
     "text": [
      "os.stat_result(st_mode=33204, st_ino=544688, st_dev=2054, st_nlink=1, st_uid=1000, st_gid=1000, st_size=0, st_atime=1671801327, st_mtime=1671801327, st_ctime=1671801327)\n"
     ]
    }
   ],
   "source": [
    "# Shows the stat of the file\n",
    "\n",
    "stats = path.stat()\n",
    "print(stats)"
   ]
  },
  {
   "cell_type": "code",
   "execution_count": 346,
   "metadata": {},
   "outputs": [
    {
     "name": "stdout",
     "output_type": "stream",
     "text": [
      "Fri Dec 23 16:45:27 2022\n"
     ]
    }
   ],
   "source": [
    "# Getting the creation time of a file\n",
    "\n",
    "from time import ctime\n",
    "\n",
    "print(ctime(stats.st_ctime))"
   ]
  },
  {
   "cell_type": "code",
   "execution_count": 347,
   "metadata": {},
   "outputs": [
    {
     "data": {
      "text/plain": [
       "61"
      ]
     },
     "execution_count": 347,
     "metadata": {},
     "output_type": "execute_result"
    }
   ],
   "source": [
    "# Writing to a file without using open\n",
    "\n",
    "path.write_text(\"Hello Darkness My Old Friend\\nI've Come To Talk With You Again\")"
   ]
  },
  {
   "cell_type": "code",
   "execution_count": 348,
   "metadata": {},
   "outputs": [
    {
     "name": "stdout",
     "output_type": "stream",
     "text": [
      "Hello Darkness My Old Friend\n",
      "I've Come To Talk With You Again\n"
     ]
    }
   ],
   "source": [
    "# Reading from a file without using open\n",
    "\n",
    "print(path.read_text())"
   ]
  },
  {
   "cell_type": "code",
   "execution_count": 349,
   "metadata": {},
   "outputs": [
    {
     "data": {
      "text/plain": [
       "61"
      ]
     },
     "execution_count": 349,
     "metadata": {},
     "output_type": "execute_result"
    }
   ],
   "source": [
    "# Copying the content of a file to a new one\n",
    "\n",
    "path.with_name(\"lyrics.txt\").write_text(path.read_text())"
   ]
  },
  {
   "cell_type": "code",
   "execution_count": 350,
   "metadata": {},
   "outputs": [
    {
     "name": "stdout",
     "output_type": "stream",
     "text": [
      "True\n",
      "Hello Darkness My Old Friend\n",
      "I've Come To Talk With You Again\n"
     ]
    }
   ],
   "source": [
    "print(path.with_name(\"lyrics.txt\").exists())\n",
    "print(path.with_name(\"lyrics.txt\").read_text())"
   ]
  },
  {
   "cell_type": "code",
   "execution_count": 351,
   "metadata": {},
   "outputs": [
    {
     "data": {
      "text/plain": [
       "PosixPath('/home/mmpsudani/Documents/new_lyrics.txt')"
      ]
     },
     "execution_count": 351,
     "metadata": {},
     "output_type": "execute_result"
    }
   ],
   "source": [
    "# Copying a file without reading and writing it\n",
    "\n",
    "import shutil\n",
    "\n",
    "shutil.copy(path, path.with_name(\"new_lyrics.txt\"))"
   ]
  },
  {
   "cell_type": "code",
   "execution_count": 352,
   "metadata": {},
   "outputs": [
    {
     "data": {
      "text/plain": [
       "[PosixPath('/home/mmpsudani/Documents/data.csv'),\n",
       " PosixPath('/home/mmpsudani/Documents/new_lyrics.txt'),\n",
       " PosixPath('/home/mmpsudani/Documents/info.txt'),\n",
       " PosixPath('/home/mmpsudani/Documents/lyrics.txt'),\n",
       " PosixPath('/home/mmpsudani/Documents/cards.json')]"
      ]
     },
     "execution_count": 352,
     "metadata": {},
     "output_type": "execute_result"
    }
   ],
   "source": [
    "list(path.parent.iterdir())"
   ]
  },
  {
   "cell_type": "code",
   "execution_count": 353,
   "metadata": {},
   "outputs": [
    {
     "name": "stdout",
     "output_type": "stream",
     "text": [
      "File renamed successfully\n"
     ]
    }
   ],
   "source": [
    "# Rename the file if it exists\n",
    "\n",
    "try:\n",
    "    path.rename(path.with_name(\"INFO.txt\"))\n",
    "    print(\"File renamed successfully\")\n",
    "except FileNotFoundError as e:\n",
    "    print(e)"
   ]
  },
  {
   "cell_type": "code",
   "execution_count": 354,
   "metadata": {},
   "outputs": [
    {
     "name": "stdout",
     "output_type": "stream",
     "text": [
      "file removed successfully\n"
     ]
    }
   ],
   "source": [
    "# Remove a file if it exists\n",
    "\n",
    "try:\n",
    "    path.with_name(\"INFO.txt\").unlink()\n",
    "    print(\"file removed successfully\")\n",
    "except FileNotFoundError as e:\n",
    "    print(e)"
   ]
  },
  {
   "cell_type": "code",
   "execution_count": 355,
   "metadata": {},
   "outputs": [
    {
     "name": "stdout",
     "output_type": "stream",
     "text": [
      "data.csv removed successfully\n",
      "new_lyrics.txt removed successfully\n",
      "lyrics.txt removed successfully\n",
      "cards.json removed successfully\n",
      "All files removed successfully from /home/mmpsudani/Documents\n"
     ]
    }
   ],
   "source": [
    "# Removing all files in a directory\n",
    "\n",
    "for file in path.parent.iterdir():\n",
    "    if file.is_file():\n",
    "        print(f\"{file.name} removed successfully\")\n",
    "        file.unlink()\n",
    "else:\n",
    "    print(f\"All files removed successfully from {path.parent}\")"
   ]
  },
  {
   "attachments": {},
   "cell_type": "markdown",
   "metadata": {},
   "source": [
    "### **10.2.** Zip Files"
   ]
  },
  {
   "cell_type": "code",
   "execution_count": 356,
   "metadata": {},
   "outputs": [],
   "source": [
    "# Zipping files together\n",
    "\n",
    "from pathlib import Path\n",
    "from zipfile import ZipFile\n",
    "\n",
    "dir_path = Path(\"/home/mmpsudani/Documents/\")\n",
    "\n",
    "Path.joinpath(dir_path, \"one.txt\").touch()\n",
    "Path.joinpath(dir_path, \"two.txt\").touch()\n",
    "Path.joinpath(dir_path, \"three.txt\").touch()\n",
    "\n",
    "with ZipFile(Path.joinpath(dir_path, \"text_files.zip\"), \"w\") as zip_file:\n",
    "    for file in dir_path.rglob(\"*.*\"):\n",
    "        zip_file.write(file)"
   ]
  },
  {
   "cell_type": "code",
   "execution_count": 357,
   "metadata": {},
   "outputs": [
    {
     "name": "stdout",
     "output_type": "stream",
     "text": [
      "[<ZipInfo filename='home/mmpsudani/Documents/two.txt' filemode='-rw-rw-r--' file_size=0>, <ZipInfo filename='home/mmpsudani/Documents/three.txt' filemode='-rw-rw-r--' file_size=0>, <ZipInfo filename='home/mmpsudani/Documents/text_files.zip' filemode='-rw-rw-r--' file_size=126>, <ZipInfo filename='home/mmpsudani/Documents/one.txt' filemode='-rw-rw-r--' file_size=0>]\n",
      "*********\n",
      "['home/mmpsudani/Documents/two.txt', 'home/mmpsudani/Documents/three.txt', 'home/mmpsudani/Documents/text_files.zip', 'home/mmpsudani/Documents/one.txt']\n"
     ]
    }
   ],
   "source": [
    "# Get a list of file name within the zipped file\n",
    "\n",
    "with ZipFile(Path.joinpath(dir_path, \"text_files.zip\")) as zip_file:\n",
    "    print(zip_file.filelist)\n",
    "    print(\"*\" * 9)\n",
    "    print(zip_file.namelist())"
   ]
  },
  {
   "cell_type": "code",
   "execution_count": 358,
   "metadata": {},
   "outputs": [
    {
     "name": "stdout",
     "output_type": "stream",
     "text": [
      "0\n",
      "0\n",
      "0\n",
      "(2022, 12, 23, 16, 45, 28)\n"
     ]
    }
   ],
   "source": [
    "# Get info on a file within the zipped file\n",
    "\n",
    "with ZipFile(Path.joinpath(dir_path, \"text_files.zip\")) as zip_file:\n",
    "    info = zip_file.getinfo(\"home/mmpsudani/Documents/two.txt\")\n",
    "    print(info.file_size)\n",
    "    print(info.compress_size)\n",
    "    print(info.volume)\n",
    "    print(info.date_time)"
   ]
  },
  {
   "cell_type": "code",
   "execution_count": 359,
   "metadata": {},
   "outputs": [],
   "source": [
    "# Extracting a zipped file\n",
    "\n",
    "with ZipFile(Path.joinpath(dir_path, \"text_files.zip\")) as zip_file:\n",
    "    zip_file.extractall(Path.joinpath(dir_path, \"extracted\"))"
   ]
  },
  {
   "cell_type": "code",
   "execution_count": 360,
   "metadata": {},
   "outputs": [],
   "source": [
    "import shutil\n",
    "\n",
    "for item in Path(\"/home/mmpsudani/Documents/\").iterdir():\n",
    "    if item.is_dir():\n",
    "        # item.rmdir() -> Cannot remove recursively\n",
    "        shutil.rmtree(item)\n",
    "    else:\n",
    "        item.unlink()"
   ]
  },
  {
   "attachments": {},
   "cell_type": "markdown",
   "metadata": {},
   "source": [
    "### **10.3.** CSV Files"
   ]
  },
  {
   "cell_type": "code",
   "execution_count": 361,
   "metadata": {},
   "outputs": [],
   "source": [
    "# Creating and writing to a CSV file\n",
    "\n",
    "import csv\n",
    "\n",
    "with open(\"/home/mmpsudani/Documents/data.csv\", \"w\") as file:\n",
    "    writer = csv.writer(file)\n",
    "    writer.writerow([\"Video Game Name\", \"Genre\", \"Time to Beat\"])\n",
    "    writer.writerow([\"Disco Elysium: Final Cut\", \"CRPG\", 45])\n",
    "    writer.writerow([\"Dark Souls Remastered\", \"Action RPG\", 40])\n",
    "    writer.writerow([\"Pillars of Eternity I\", \"CRPG\", 60])"
   ]
  },
  {
   "cell_type": "code",
   "execution_count": 362,
   "metadata": {},
   "outputs": [
    {
     "name": "stdout",
     "output_type": "stream",
     "text": [
      "['Video Game Name', 'Genre', 'Time to Beat']\n",
      "['Disco Elysium: Final Cut', 'CRPG', '45']\n",
      "['Dark Souls Remastered', 'Action RPG', '40']\n",
      "['Pillars of Eternity I', 'CRPG', '60']\n"
     ]
    }
   ],
   "source": [
    "# Reading a CSV file\n",
    "\n",
    "with open(\"/home/mmpsudani/Documents/data.csv\", \"r\") as file:\n",
    "    reader = csv.reader(file)\n",
    "\n",
    "    for line in reader:\n",
    "        print(line)"
   ]
  },
  {
   "attachments": {},
   "cell_type": "markdown",
   "metadata": {},
   "source": [
    "### **10.4.** JSON Files"
   ]
  },
  {
   "cell_type": "code",
   "execution_count": 363,
   "metadata": {},
   "outputs": [
    {
     "name": "stdout",
     "output_type": "stream",
     "text": [
      "[{\"id\": 1, \"name\": \"Scrap Beast\", \"Attribute\": \"Earth\"}, {\"id\": 2, \"name\": \"Scrap Dragon\", \"Attribute\": \"Earth\"}, {\"id\": 3, \"name\": \"Stardust Dragon\", \"Attribute\": \"Wind\"}]\n"
     ]
    }
   ],
   "source": [
    "# Creating a json object\n",
    "\n",
    "import json\n",
    "\n",
    "cards = [\n",
    "    {\"id\": 1, \"name\": \"Scrap Beast\", \"Attribute\": \"Earth\"},\n",
    "    {\"id\": 2, \"name\": \"Scrap Dragon\", \"Attribute\": \"Earth\"},\n",
    "    {\"id\": 3, \"name\": \"Stardust Dragon\", \"Attribute\": \"Wind\"},\n",
    "]\n",
    "\n",
    "cards_json = json.dumps(cards)\n",
    "print(cards_json)"
   ]
  },
  {
   "cell_type": "code",
   "execution_count": 364,
   "metadata": {},
   "outputs": [
    {
     "data": {
      "text/plain": [
       "172"
      ]
     },
     "execution_count": 364,
     "metadata": {},
     "output_type": "execute_result"
    }
   ],
   "source": [
    "# Saving a json object as a file\n",
    "\n",
    "from pathlib import Path\n",
    "\n",
    "Path(\"/home/mmpsudani/Documents/cards.json\").write_text(cards_json)"
   ]
  },
  {
   "cell_type": "code",
   "execution_count": 365,
   "metadata": {},
   "outputs": [
    {
     "name": "stdout",
     "output_type": "stream",
     "text": [
      "[{'id': 1, 'name': 'Scrap Beast', 'Attribute': 'Earth'}, {'id': 2, 'name': 'Scrap Dragon', 'Attribute': 'Earth'}, {'id': 3, 'name': 'Stardust Dragon', 'Attribute': 'Wind'}]\n"
     ]
    }
   ],
   "source": [
    "# Reading a json file\n",
    "\n",
    "cards = Path(\"/home/mmpsudani/Documents/cards.json\").read_text()\n",
    "print(json.loads(cards))"
   ]
  },
  {
   "attachments": {},
   "cell_type": "markdown",
   "metadata": {},
   "source": [
    "### **10.5.** Date and Time"
   ]
  },
  {
   "cell_type": "code",
   "execution_count": 366,
   "metadata": {},
   "outputs": [
    {
     "name": "stdout",
     "output_type": "stream",
     "text": [
      "1671801328.8937998\n"
     ]
    }
   ],
   "source": [
    "# Get number of seconds passed since Jan 1st 1970 in UNIX OSs\n",
    "# Can be used to check the difference of two times\n",
    "\n",
    "import time\n",
    "\n",
    "print(time.time())"
   ]
  },
  {
   "cell_type": "code",
   "execution_count": 367,
   "metadata": {},
   "outputs": [
    {
     "name": "stdout",
     "output_type": "stream",
     "text": [
      "1990-04-19 00:00:00\n",
      "1990/4\n"
     ]
    }
   ],
   "source": [
    "# Create a datetime object with the given date and time\n",
    "\n",
    "from datetime import datetime\n",
    "\n",
    "dt = datetime(1990, 4, 19)\n",
    "print(dt)\n",
    "print(f\"{dt.year}/{dt.month}\")"
   ]
  },
  {
   "cell_type": "code",
   "execution_count": 368,
   "metadata": {},
   "outputs": [
    {
     "name": "stdout",
     "output_type": "stream",
     "text": [
      "2022-12-23 16:45:28.936784\n"
     ]
    }
   ],
   "source": [
    "# Get now\n",
    "\n",
    "print(datetime.now())"
   ]
  },
  {
   "cell_type": "code",
   "execution_count": 369,
   "metadata": {},
   "outputs": [
    {
     "name": "stdout",
     "output_type": "stream",
     "text": [
      "1994-05-18 00:00:00\n"
     ]
    }
   ],
   "source": [
    "# Convert a custom date and time into datetime object\n",
    "\n",
    "print(datetime.strptime(\"1994/5/18\", \"%Y/%m/%d\"))"
   ]
  },
  {
   "cell_type": "code",
   "execution_count": 370,
   "metadata": {},
   "outputs": [
    {
     "name": "stdout",
     "output_type": "stream",
     "text": [
      "2022-12-23 16:45:28.979650\n"
     ]
    }
   ],
   "source": [
    "# Convert a time stamp into datetime object\n",
    "\n",
    "print(datetime.fromtimestamp(time.time()))"
   ]
  },
  {
   "cell_type": "code",
   "execution_count": 371,
   "metadata": {},
   "outputs": [
    {
     "name": "stdout",
     "output_type": "stream",
     "text": [
      "False\n"
     ]
    }
   ],
   "source": [
    "# Compare datetime objects\n",
    "\n",
    "dt1 = datetime(1990, 4, 19)\n",
    "dt2 = datetime(1994, 5, 18)\n",
    "\n",
    "print(dt1 > dt2)"
   ]
  },
  {
   "cell_type": "code",
   "execution_count": 372,
   "metadata": {},
   "outputs": [
    {
     "name": "stdout",
     "output_type": "stream",
     "text": [
      "1490 days, 0:00:00\n",
      "Days: 1490\n",
      "Seconds: 0\n",
      "Total Seconds: 128736000.0\n"
     ]
    }
   ],
   "source": [
    "# Get the duration between two dates\n",
    "\n",
    "duration = dt2 - dt1\n",
    "print(duration)\n",
    "print(f\"Days: {duration.days}\")\n",
    "print(f\"Seconds: {duration.seconds}\")\n",
    "print(f\"Total Seconds: {duration.total_seconds()}\")"
   ]
  },
  {
   "cell_type": "code",
   "execution_count": 373,
   "metadata": {},
   "outputs": [
    {
     "name": "stdout",
     "output_type": "stream",
     "text": [
      "2022-12-23 16:45:29.059926\n",
      "2023-01-19 16:45:47.059926\n"
     ]
    }
   ],
   "source": [
    "# Using timedelta to add to a datetime object\n",
    "\n",
    "from datetime import timedelta\n",
    "\n",
    "dt3 = datetime.now()\n",
    "print(dt3)\n",
    "print(dt3 + timedelta(weeks=3, days=6, seconds=18))"
   ]
  },
  {
   "attachments": {},
   "cell_type": "markdown",
   "metadata": {},
   "source": [
    "### **10.6.** Random Numbers"
   ]
  },
  {
   "cell_type": "code",
   "execution_count": 374,
   "metadata": {},
   "outputs": [
    {
     "name": "stdout",
     "output_type": "stream",
     "text": [
      "0.18057461831983412\n"
     ]
    }
   ],
   "source": [
    "# Return a random float\n",
    "\n",
    "import random\n",
    "\n",
    "print(random.random())"
   ]
  },
  {
   "cell_type": "code",
   "execution_count": 375,
   "metadata": {},
   "outputs": [
    {
     "name": "stdout",
     "output_type": "stream",
     "text": [
      "5\n"
     ]
    }
   ],
   "source": [
    "# Return a random integer\n",
    "\n",
    "print(random.randint(3, 18))"
   ]
  },
  {
   "cell_type": "code",
   "execution_count": 376,
   "metadata": {},
   "outputs": [
    {
     "name": "stdout",
     "output_type": "stream",
     "text": [
      "18\n"
     ]
    }
   ],
   "source": [
    "# Return a random item from an iterable\n",
    "\n",
    "print(random.choice([3, 6, 9, 12, 18]))"
   ]
  },
  {
   "cell_type": "code",
   "execution_count": 377,
   "metadata": {},
   "outputs": [
    {
     "name": "stdout",
     "output_type": "stream",
     "text": [
      "DuSXFt\n"
     ]
    }
   ],
   "source": [
    "# Return multiple random items from and iterable\n",
    "\n",
    "import string\n",
    "\n",
    "print(\"\".join(random.choices(string.digits + string.ascii_letters, k=6)))"
   ]
  },
  {
   "cell_type": "code",
   "execution_count": 378,
   "metadata": {},
   "outputs": [
    {
     "name": "stdout",
     "output_type": "stream",
     "text": [
      "abcdefghijklmnopqrstuvwxyz\n",
      "knpdytrfevgmuxqbocalzhjwsi\n"
     ]
    }
   ],
   "source": [
    "# Shuffle and iterable\n",
    "\n",
    "lowercase_letters = list(string.ascii_lowercase)\n",
    "print(\"\".join(lowercase_letters))\n",
    "random.shuffle(lowercase_letters)\n",
    "print(\"\".join(lowercase_letters))"
   ]
  },
  {
   "cell_type": "code",
   "execution_count": 379,
   "metadata": {},
   "outputs": [
    {
     "name": "stdout",
     "output_type": "stream",
     "text": [
      "0.13436424411240122\n"
     ]
    }
   ],
   "source": [
    "# Controlling the random seed\n",
    "\n",
    "random.seed(1)\n",
    "print(random.random())\n"
   ]
  },
  {
   "attachments": {},
   "cell_type": "markdown",
   "metadata": {},
   "source": [
    "### **10.7.** Sending Email"
   ]
  },
  {
   "cell_type": "code",
   "execution_count": 380,
   "metadata": {},
   "outputs": [
    {
     "name": "stdout",
     "output_type": "stream",
     "text": [
      "please run connect() first\n"
     ]
    }
   ],
   "source": [
    "# Send a plain text email\n",
    "\n",
    "from email.mime.multipart import MIMEMultipart\n",
    "from email.mime.text import MIMEText\n",
    "from email.mime.image import MIMEImage\n",
    "from pathlib import Path\n",
    "import smtplib\n",
    "\n",
    "\n",
    "\n",
    "message = MIMEMultipart()\n",
    "message[\"from\"] = \"mmpsudani@gmail.com\"\n",
    "message[\"to\"] = \"request@contemo.ir\"\n",
    "message[\"subject\"] = \"This is custom request\"\n",
    "message.attach(MIMEText(\"This is the body of the email message\", \"plain\"))\n",
    "message.attach(MIMEImage(Path(\"/media/mmpsudani/Programs/Work/ConteMO/Website/Helper/contemo.png\").read_bytes()))\n",
    "\n",
    "try:\n",
    "    with smtplib.SMTP(host=\"\", port=\"\") as smtp:\n",
    "        smtp.ehlo()\n",
    "        smtp.starttls()\n",
    "        smtp.login(\"request@contemo.ir\", \"$omeR@ndomShit9\")\n",
    "        smtp.send_message(message)\n",
    "except smtplib.SMTPServerDisconnected as e:\n",
    "    print(e)"
   ]
  },
  {
   "cell_type": "code",
   "execution_count": 381,
   "metadata": {},
   "outputs": [
    {
     "name": "stdout",
     "output_type": "stream",
     "text": [
      "please run connect() first\n"
     ]
    }
   ],
   "source": [
    "# Send an HTML email\n",
    "\n",
    "from email.mime.multipart import MIMEMultipart\n",
    "from email.mime.text import MIMEText\n",
    "from string import Template\n",
    "from pathlib import Path\n",
    "import smtplib\n",
    "\n",
    "template = Template(Path(\"/media/mmpsudani/Programs/Work/ConteMO/Website/Helper/base.html\").read_text())\n",
    "body = template.substitute({\"name\": \"Mohammad Sudani\"})\n",
    "\n",
    "message = MIMEMultipart()\n",
    "message[\"from\"] = \"mmpsudani@gmail.com\"\n",
    "message[\"to\"] = \"request@contemo.ir\"\n",
    "message[\"subject\"] = \"This is an HTML email\"\n",
    "message.attach(MIMEText(body, \"html\"))\n",
    "\n",
    "try:\n",
    "    with smtplib.SMTP(host=\"\", port=\"\") as smtp:\n",
    "        smtp.ehlo()\n",
    "        smtp.starttls()\n",
    "        smtp.login(user=\"request@contemo.ir\", password=\"$omeR@ndom$hit9\")\n",
    "        smtp.send_message(message)\n",
    "except smtplib.SMTPServerDisconnected as e:\n",
    "    print(e)"
   ]
  }
 ],
 "metadata": {
  "kernelspec": {
   "display_name": "Python 3",
   "language": "python",
   "name": "python3"
  },
  "language_info": {
   "codemirror_mode": {
    "name": "ipython",
    "version": 3
   },
   "file_extension": ".py",
   "mimetype": "text/x-python",
   "name": "python",
   "nbconvert_exporter": "python",
   "pygments_lexer": "ipython3",
   "version": "3.10.6"
  },
  "orig_nbformat": 4,
  "vscode": {
   "interpreter": {
    "hash": "916dbcbb3f70747c44a77c7bcd40155683ae19c65e1c03b4aa3499c5328201f1"
   }
  }
 },
 "nbformat": 4,
 "nbformat_minor": 2
}
