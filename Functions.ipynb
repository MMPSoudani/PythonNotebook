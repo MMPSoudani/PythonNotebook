{
 "cells": [
  {
   "attachments": {},
   "cell_type": "markdown",
   "metadata": {},
   "source": [
    "# **5.** Python Basics: Functions"
   ]
  },
  {
   "attachments": {},
   "cell_type": "markdown",
   "metadata": {},
   "source": [
    "### **5.1.** Defining a function without parameter(s)"
   ]
  },
  {
   "cell_type": "code",
   "execution_count": 207,
   "metadata": {},
   "outputs": [
    {
     "name": "stdout",
     "output_type": "stream",
     "text": [
      "F.U.C.K\n"
     ]
    }
   ],
   "source": [
    "def say_it():\n",
    "    print(\"F.U.C.K\")\n",
    "\n",
    "\n",
    "say_it()"
   ]
  },
  {
   "attachments": {},
   "cell_type": "markdown",
   "metadata": {},
   "source": [
    "### **5.2.** Defining a function with parameter(s)"
   ]
  },
  {
   "cell_type": "code",
   "execution_count": 208,
   "metadata": {},
   "outputs": [
    {
     "name": "stdout",
     "output_type": "stream",
     "text": [
      "Scrap Beast\n",
      "No Ability\n",
      "()\n",
      "{}\n",
      "*********\n",
      "Stardust Dragon\n",
      "Immunity\n",
      "()\n",
      "{}\n",
      "*********\n",
      "Scrap Dragon\n",
      "8\n",
      "(2800, 2000, 16532154)\n",
      "{}\n",
      "*********\n",
      "Scrap Twin Dragon\n",
      "No Ability\n",
      "()\n",
      "{'a': 9, 'b': 3000, 'c': 2200, 'd': 65498723}\n",
      "*********\n"
     ]
    }
   ],
   "source": [
    "def my_function(name, effect=\"No Ability\", *args, **kwargs):\n",
    "    print(name)\n",
    "    print(effect)\n",
    "    print(args)\n",
    "    print(kwargs)\n",
    "    print(\"*\" * 9)\n",
    "\n",
    "\n",
    "my_function(\"Scrap Beast\")\n",
    "my_function(effect=\"Immunity\", name=\"Stardust Dragon\")\n",
    "my_function(\"Scrap Dragon\", 8, 2800, 2000, 16532154)\n",
    "my_function(\"Scrap Twin Dragon\", a=9, b=3000, c=2200, d=65498723)\n"
   ]
  },
  {
   "attachments": {},
   "cell_type": "markdown",
   "metadata": {},
   "source": [
    "### **5.3.** Returning a value"
   ]
  },
  {
   "cell_type": "code",
   "execution_count": 209,
   "metadata": {},
   "outputs": [
    {
     "name": "stdout",
     "output_type": "stream",
     "text": [
      "150\n"
     ]
    }
   ],
   "source": [
    "def sum_all(*args, **kwargs):\n",
    "    total = 0\n",
    "    for arg in args:\n",
    "        total += arg\n",
    "    \n",
    "    return total\n",
    "\n",
    "\n",
    "result = sum_all(10, 20, 30, 40, 50)\n",
    "print(result)"
   ]
  },
  {
   "attachments": {},
   "cell_type": "markdown",
   "metadata": {},
   "source": [
    "### **5.4.** Recursive Function"
   ]
  },
  {
   "cell_type": "code",
   "execution_count": 210,
   "metadata": {},
   "outputs": [
    {
     "name": "stdout",
     "output_type": "stream",
     "text": [
      "3\n",
      "2\n",
      "1\n",
      "LEFT OFF!!!\n"
     ]
    }
   ],
   "source": [
    "def countdown(number: int) -> str:\n",
    "    if number == 0:\n",
    "        print(\"LEFT OFF!!!\")\n",
    "    else:\n",
    "        print(number)\n",
    "        countdown(number - 1)\n",
    "\n",
    "\n",
    "countdown(3)"
   ]
  },
  {
   "attachments": {},
   "cell_type": "markdown",
   "metadata": {},
   "source": [
    "### **5.5.** Nested functions"
   ]
  },
  {
   "cell_type": "code",
   "execution_count": 211,
   "metadata": {},
   "outputs": [
    {
     "data": {
      "text/plain": [
       "104"
      ]
     },
     "execution_count": 211,
     "metadata": {},
     "output_type": "execute_result"
    }
   ],
   "source": [
    "def power_2_sum(*args, **kwargs) -> int:\n",
    "    \"\"\"\n",
    "    Takes a tuple of numbers and returns the total of their double\n",
    "    \"\"\"\n",
    "    def power(number :int, by=2) -> int:\n",
    "        return number ** by\n",
    "    \n",
    "    def sum(num_1: int, num_2: int) -> int:\n",
    "        return num_1 + num_2\n",
    "    \n",
    "    total = 0\n",
    "    \n",
    "    if not args:\n",
    "        return total\n",
    "    \n",
    "    for arg in args:\n",
    "        if isinstance(arg, int):\n",
    "            total = sum(power(arg), total)\n",
    "        else:\n",
    "            print(\"Only numbers are accepted\")\n",
    "            continue\n",
    "    \n",
    "    return total\n",
    "\n",
    "\n",
    "power_2_sum(1, 1, 2, 3, 5, 8)"
   ]
  },
  {
   "attachments": {},
   "cell_type": "markdown",
   "metadata": {},
   "source": [
    "### **5.6.** Returning Function"
   ]
  },
  {
   "cell_type": "code",
   "execution_count": 212,
   "metadata": {},
   "outputs": [
    {
     "name": "stdout",
     "output_type": "stream",
     "text": [
      "<function choose.<locals>.one at 0x7fa03ce537f0>\n",
      "3\n",
      "TWO\n"
     ]
    }
   ],
   "source": [
    "def choose(code: int):\n",
    "    def one():\n",
    "        return \"ONE\"\n",
    "    \n",
    "    def two():\n",
    "        return \"TWO\"\n",
    "    \n",
    "    if code == 1:\n",
    "        return one\n",
    "    elif code == 2:\n",
    "        return two\n",
    "    else:\n",
    "        return code\n",
    "\n",
    "\n",
    "print(choose(1))\n",
    "print(choose(3))\n",
    "print(choose(2)())"
   ]
  },
  {
   "attachments": {},
   "cell_type": "markdown",
   "metadata": {},
   "source": [
    "### **5.7.** Decorators"
   ]
  },
  {
   "cell_type": "code",
   "execution_count": 213,
   "metadata": {},
   "outputs": [],
   "source": [
    "# Overall structure of a decorator\n",
    "\n",
    "def decorator(func):\n",
    "    def wrapper_func():\n",
    "        result = func()\n",
    "        return result\n",
    "    return wrapper_func"
   ]
  },
  {
   "cell_type": "code",
   "execution_count": 214,
   "metadata": {},
   "outputs": [
    {
     "name": "stdout",
     "output_type": "stream",
     "text": [
      "Time It Result: 0:00:00.000004\n",
      "863585348432969696106111621264\n"
     ]
    }
   ],
   "source": [
    "def time_it(func):\n",
    "    def wrapper_func(*args, **kwargs):\n",
    "        from datetime import datetime\n",
    "\n",
    "\n",
    "        start = datetime.now()\n",
    "        value = func(*args, **kwargs)\n",
    "        end = datetime.now()\n",
    "        print(f\"Time It Result: {end - start}\")\n",
    "        return value\n",
    "    return wrapper_func\n",
    "\n",
    "\n",
    "@time_it\n",
    "def multiply(x: int, y: int) -> int:\n",
    "    return x * y\n",
    "\n",
    "\n",
    "result = multiply(929292929292, 929292929292929292)\n",
    "print(result)"
   ]
  },
  {
   "attachments": {},
   "cell_type": "markdown",
   "metadata": {},
   "source": [
    "### **5.8.** Variable scope: local / global"
   ]
  },
  {
   "cell_type": "code",
   "execution_count": 215,
   "metadata": {},
   "outputs": [
    {
     "name": "stdout",
     "output_type": "stream",
     "text": [
      "b\n",
      "***\n",
      "a\n",
      "c\n",
      "***\n",
      "...\n",
      "c\n",
      "***\n",
      "a\n",
      "d\n"
     ]
    }
   ],
   "source": [
    "message = \"a\"\n",
    "\n",
    "def get_message_1():\n",
    "    # print(message) -> Will throw an error since local variable message is called before assignment\n",
    "    message = \"b\"\n",
    "    print(message)\n",
    "\n",
    "def get_message_2(message):\n",
    "    print(message)\n",
    "    message = \"c\"\n",
    "    print(message)\n",
    "\n",
    "def get_message_3():\n",
    "    global message # Bad practice\n",
    "    print(message)\n",
    "    message = \"d\"\n",
    "    print(message)\n",
    "\n",
    "\n",
    "get_message_1()\n",
    "print(\"*\" * 3)\n",
    "get_message_2(message)\n",
    "print(\"*\" * 3)\n",
    "get_message_2(\"...\")\n",
    "print(\"*\" * 3)\n",
    "get_message_3()"
   ]
  },
  {
   "attachments": {},
   "cell_type": "markdown",
   "metadata": {},
   "source": [
    "### **5.9.** Swapping Variables"
   ]
  },
  {
   "cell_type": "code",
   "execution_count": 216,
   "metadata": {},
   "outputs": [
    {
     "name": "stdout",
     "output_type": "stream",
     "text": [
      "1 0\n",
      "1 0\n"
     ]
    }
   ],
   "source": [
    "# 1st Method: Temp variable\n",
    "a = 0\n",
    "b = 1\n",
    "\n",
    "c = a\n",
    "a = b\n",
    "b = c\n",
    "print(a, b)\n",
    "\n",
    "# 2nd Method: Tuple unpacking\n",
    "a = 0\n",
    "b = 1\n",
    "\n",
    "a, b = b, a\n",
    "print(a, b)"
   ]
  },
  {
   "attachments": {},
   "cell_type": "markdown",
   "metadata": {},
   "source": [
    "### **5.10.** Lambda"
   ]
  },
  {
   "attachments": {},
   "cell_type": "markdown",
   "metadata": {},
   "source": [
    "A one line function with the form:\n",
    "- lambda parameters: expression"
   ]
  },
  {
   "cell_type": "code",
   "execution_count": 217,
   "metadata": {},
   "outputs": [
    {
     "name": "stdout",
     "output_type": "stream",
     "text": [
      "6\n"
     ]
    }
   ],
   "source": [
    "a = lambda b: b * 2\n",
    "print(a(3))"
   ]
  },
  {
   "attachments": {},
   "cell_type": "markdown",
   "metadata": {},
   "source": [
    "### **5.11.** Docstring"
   ]
  },
  {
   "cell_type": "code",
   "execution_count": 218,
   "metadata": {},
   "outputs": [
    {
     "data": {
      "text/plain": [
       "-1"
      ]
     },
     "execution_count": 218,
     "metadata": {},
     "output_type": "execute_result"
    }
   ],
   "source": [
    "def compare(owner, opponent) -> int:\n",
    "    \"\"\"\n",
    "    Compares the owner's attacking card's power with the opponent's attacked card's power.\n",
    "\n",
    "    parameters:\n",
    "    owner (int): an integer that represents a card's power\n",
    "    opponent (int): an integer that represents a card's power\n",
    "\n",
    "    returns:\n",
    "    int: -1, 0 or 1 based on the comparison result\n",
    "    \"\"\"\n",
    "    if owner > opponent:\n",
    "        return 1\n",
    "    elif owner < opponent:\n",
    "        return -1\n",
    "    else:\n",
    "        return 0\n",
    "\n",
    "compare(10, 12)"
   ]
  }
 ],
 "metadata": {
  "kernelspec": {
   "display_name": "Python 3",
   "language": "python",
   "name": "python3"
  },
  "language_info": {
   "codemirror_mode": {
    "name": "ipython",
    "version": 3
   },
   "file_extension": ".py",
   "mimetype": "text/x-python",
   "name": "python",
   "nbconvert_exporter": "python",
   "pygments_lexer": "ipython3",
   "version": "3.10.6 (main, Nov 14 2022, 16:10:14) [GCC 11.3.0]"
  },
  "orig_nbformat": 4,
  "vscode": {
   "interpreter": {
    "hash": "916dbcbb3f70747c44a77c7bcd40155683ae19c65e1c03b4aa3499c5328201f1"
   }
  }
 },
 "nbformat": 4,
 "nbformat_minor": 2
}
