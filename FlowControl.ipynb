{
 "cells": [
  {
   "attachments": {},
   "cell_type": "markdown",
   "metadata": {},
   "source": [
    "# **3.** Python Basics: Flow Control"
   ]
  },
  {
   "attachments": {},
   "cell_type": "markdown",
   "metadata": {},
   "source": [
    "### **3.1.** Comparison Operators"
   ]
  },
  {
   "cell_type": "code",
   "execution_count": 196,
   "metadata": {},
   "outputs": [
    {
     "name": "stdout",
     "output_type": "stream",
     "text": [
      "True\n",
      "True\n",
      "True\n",
      "True\n",
      "True\n",
      "True\n",
      "False\n",
      "True\n",
      "False\n",
      "False\n"
     ]
    }
   ],
   "source": [
    "print(9 > 3)\n",
    "print(9 >= 3)\n",
    "print(9 < 18)\n",
    "print(9 <= 18)\n",
    "print(9 == 9)\n",
    "print(9 != 3)\n",
    "print(9 == \"9\")\n",
    "print(9 != \"3\")\n",
    "print(\"apple\" > \"oranges\")\n",
    "print(\"star\" == \"STAR\")"
   ]
  },
  {
   "attachments": {},
   "cell_type": "markdown",
   "metadata": {},
   "source": [
    "### **3.2.** Conditional Statements"
   ]
  },
  {
   "cell_type": "code",
   "execution_count": 197,
   "metadata": {},
   "outputs": [
    {
     "name": "stdout",
     "output_type": "stream",
     "text": [
      "Its Small\n"
     ]
    }
   ],
   "source": [
    "from random import randint\n",
    "\n",
    "number = randint(0, 92)\n",
    "\n",
    "if number == 0:\n",
    "    print(\"Its Nothing\")\n",
    "elif 0 < number < 30:\n",
    "    print(\"Its Small\")\n",
    "elif 30 <= number < 60:\n",
    "    print(\"Its Medium\")\n",
    "elif 60 <= number < 90:\n",
    "    print(\"Its Big\")\n",
    "else:\n",
    "    print(\"Its Everything\")"
   ]
  },
  {
   "attachments": {},
   "cell_type": "markdown",
   "metadata": {},
   "source": [
    "### **3.3.** Logical Operators"
   ]
  },
  {
   "cell_type": "code",
   "execution_count": 198,
   "metadata": {},
   "outputs": [
    {
     "name": "stdout",
     "output_type": "stream",
     "text": [
      "Can take loan\n"
     ]
    }
   ],
   "source": [
    "high_income = True\n",
    "good_credit_score = False\n",
    "has_no_job = False\n",
    "\n",
    "if (high_income or good_credit_score) and not has_no_job:\n",
    "    print(\"Can take loan\")\n",
    "else:\n",
    "    print(\"Cannot take loan\")"
   ]
  },
  {
   "attachments": {},
   "cell_type": "markdown",
   "metadata": {},
   "source": [
    "### **3.4.** Ternary Operator"
   ]
  },
  {
   "cell_type": "code",
   "execution_count": 199,
   "metadata": {},
   "outputs": [
    {
     "name": "stdout",
     "output_type": "stream",
     "text": [
      "Eligible\n",
      "Eligible\n"
     ]
    }
   ],
   "source": [
    "from random import randint\n",
    "\n",
    "age = randint(1, 30)\n",
    "if age >= 18:\n",
    "    message = \"Eligible\"\n",
    "else:\n",
    "    message = \"Not Eligible\"\n",
    "\n",
    "print(message)\n",
    "\n",
    "# The code above can be written as follows:\n",
    "message = \"Eligible\" if age >= 18 else \"Not Eligible\"\n",
    "print(message)"
   ]
  },
  {
   "attachments": {},
   "cell_type": "markdown",
   "metadata": {},
   "source": [
    "### **3.5.** Short-Circuit Evaluation"
   ]
  },
  {
   "attachments": {},
   "cell_type": "markdown",
   "metadata": {},
   "source": [
    "In the evaluation of a conditional statement with multiple conditional expressions, the very first expression can determine the outcome of the whole statement.\n",
    "\n",
    "for and:\n",
    "1. if False and True and True -> False\n",
    "2. if True and False and True -> False\n",
    "3. if True and True and False -> False\n",
    "\n",
    "for or:\n",
    "1. if True or False or False -> True\n",
    "2. if False or True or False -> True\n",
    "3. if False and False or True -> True\n",
    "\n",
    "So it is advised to place the condition which is more likely to be False (for and) or True (for or) at the start of a conditional statement"
   ]
  }
 ],
 "metadata": {
  "kernelspec": {
   "display_name": "Python 3",
   "language": "python",
   "name": "python3"
  },
  "language_info": {
   "codemirror_mode": {
    "name": "ipython",
    "version": 3
   },
   "file_extension": ".py",
   "mimetype": "text/x-python",
   "name": "python",
   "nbconvert_exporter": "python",
   "pygments_lexer": "ipython3",
   "version": "3.10.6 (main, Nov 14 2022, 16:10:14) [GCC 11.3.0]"
  },
  "orig_nbformat": 4,
  "vscode": {
   "interpreter": {
    "hash": "916dbcbb3f70747c44a77c7bcd40155683ae19c65e1c03b4aa3499c5328201f1"
   }
  }
 },
 "nbformat": 4,
 "nbformat_minor": 2
}
