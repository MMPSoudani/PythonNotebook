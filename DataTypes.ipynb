{
 "cells": [
  {
   "attachments": {},
   "cell_type": "markdown",
   "metadata": {},
   "source": [
    "# **2.** Python Basics: Data Types"
   ]
  },
  {
   "attachments": {},
   "cell_type": "markdown",
   "metadata": {},
   "source": [
    "### **2.1.** Variables"
   ]
  },
  {
   "cell_type": "markdown",
   "metadata": {},
   "source": [
    "1. Variables are named locations in the memory that stores a value or values\n",
    "2. By using the variable name, the value or values stored in that location of the memory can be called\n",
    "3. By adding a colon in front of a variable name, we can define its type\n",
    "    - Python is still Dynamically typed and this will not affect the syntax\n",
    "4. immutable data types (int, float, bool, string, tuple) have unique memory addresses:\n",
    "    - when their is no reference to a value in the memory, Python will discard it using garbage collector"
   ]
  },
  {
   "cell_type": "code",
   "execution_count": 184,
   "metadata": {},
   "outputs": [],
   "source": [
    "# a variable that stores an INT or Integer\n",
    "year: int = 1990\n",
    "# a variable that stores a float or floating point number\n",
    "rate: float = 6.3\n",
    "# a variable that stores a Boolean\n",
    "is_done: bool = False\n",
    "# a variable that stores a String\n",
    "name: str = \"MMPSudani\""
   ]
  },
  {
   "cell_type": "markdown",
   "metadata": {},
   "source": [
    "**Regarding Variables:**\n",
    "\n",
    "1. Use descriptive and meaningful names\n",
    "2. Use lower case letters\n",
    "3. user underscore ( _ ) between names\n",
    "\n",
    "**Static Typing:** Requires declaring the type of a variable when defining the variable.<br>\n",
    "**Dynamic Typing:** Variable type is determined by the value stored in it during run time."
   ]
  },
  {
   "cell_type": "code",
   "execution_count": 185,
   "metadata": {},
   "outputs": [
    {
     "name": "stdout",
     "output_type": "stream",
     "text": [
      "<class 'int'>\n",
      "<class 'float'>\n",
      "<class 'bool'>\n",
      "<class 'str'>\n"
     ]
    }
   ],
   "source": [
    "# displays the type of a variable\n",
    "\n",
    "print(type(year))\n",
    "print(type(rate))\n",
    "print(type(is_done))\n",
    "print(type(name))"
   ]
  },
  {
   "cell_type": "code",
   "execution_count": 186,
   "metadata": {},
   "outputs": [
    {
     "name": "stdout",
     "output_type": "stream",
     "text": [
      "140326228310480\n",
      "140326650346192\n",
      "93955485402112\n",
      "140326648493232\n"
     ]
    }
   ],
   "source": [
    "# display the address of a variable (or an object) in the memory location\n",
    "\n",
    "print(id(year))\n",
    "print(id(rate))\n",
    "print(id(is_done))\n",
    "print(id(name))"
   ]
  },
  {
   "attachments": {},
   "cell_type": "markdown",
   "metadata": {},
   "source": [
    "### **2.2.** Strings"
   ]
  },
  {
   "attachments": {},
   "cell_type": "markdown",
   "metadata": {},
   "source": [
    "#### **2.2.1.** Slicing a String"
   ]
  },
  {
   "cell_type": "code",
   "execution_count": 187,
   "metadata": {},
   "outputs": [
    {
     "name": "stdout",
     "output_type": "stream",
     "text": [
      "27\n",
      "Python Programming Language\n",
      "n Programming Language\n",
      "Python Programming\n",
      "n Pr\n",
      "h\n",
      "n\n",
      "hon Programming Langu\n",
      "egaugnaL gnimmargorP nohtyP\n",
      "hnPormigLnug\n"
     ]
    }
   ],
   "source": [
    "course_name = \"Python Programming Language\"\n",
    "print(len(course_name))\n",
    "print(course_name[:])\n",
    "print(course_name[5:])\n",
    "print(course_name[:18])\n",
    "print(course_name[5:9])\n",
    "print(course_name[3])\n",
    "print(course_name[-6])\n",
    "print(course_name[3:-3])\n",
    "print(course_name[::-1])\n",
    "print(course_name[3::2])"
   ]
  },
  {
   "attachments": {},
   "cell_type": "markdown",
   "metadata": {},
   "source": [
    "#### **2.2.2.** Escape Sequences"
   ]
  },
  {
   "cell_type": "code",
   "execution_count": 188,
   "metadata": {},
   "outputs": [
    {
     "name": "stdout",
     "output_type": "stream",
     "text": [
      "\tPython \"Programming\" \n",
      "Language\n"
     ]
    }
   ],
   "source": [
    "print(\"\\tPython \\\"Programming\\\" \\nLanguage\")"
   ]
  },
  {
   "attachments": {},
   "cell_type": "markdown",
   "metadata": {},
   "source": [
    "#### **2.2.3.** Formatting Strings"
   ]
  },
  {
   "cell_type": "code",
   "execution_count": 189,
   "metadata": {},
   "outputs": [
    {
     "name": "stdout",
     "output_type": "stream",
     "text": [
      "Hi, I am Mohammad Sudani, the CTO of Shamim\n",
      "Hi, I am Mohammad Sudani, the CTO of Shamim\n",
      "Hi, I am Mohammad Sudani, the CTO of Shamim\n"
     ]
    }
   ],
   "source": [
    "first_name = \"Mohammad\"\n",
    "last_name = \"Sudani\"\n",
    "occupation = \"CTO\"\n",
    "company = \"Shamim\"\n",
    "\n",
    "print(\"Hi, I am \" + first_name + \" \" + last_name + \", the \" + occupation + \" of \" + company)\n",
    "# any valid expressions can be placed within the curly braces\n",
    "print(\"Hi, I am {} {}, the {} of {}\".format(first_name, last_name, occupation, company))\n",
    "print(f\"Hi, I am {first_name} {last_name}, the {occupation} of {company}\")"
   ]
  },
  {
   "attachments": {},
   "cell_type": "markdown",
   "metadata": {},
   "source": [
    "#### **2.2.4.** String methods"
   ]
  },
  {
   "cell_type": "markdown",
   "metadata": {},
   "source": [
    "**Note:** When using string methods on a string, new string is created as a result and the original string is not altered"
   ]
  },
  {
   "cell_type": "code",
   "execution_count": 190,
   "metadata": {},
   "outputs": [
    {
     "name": "stdout",
     "output_type": "stream",
     "text": [
      "    HI, I AM MOHAMMAD SUDANI\n",
      "    hi, i am mohammad sudani\n",
      "    Hi, I Am Mohammad Sudani\n",
      "Hi, I am Mohammad Sudani\n",
      "8\n",
      "-1\n",
      "----Hi,-I-am-Mohammad-Sudani\n",
      "True\n",
      "True\n"
     ]
    }
   ],
   "source": [
    "sentence = \"    Hi, I am Mohammad Sudani\"\n",
    "print(sentence.upper())\n",
    "print(sentence.lower())\n",
    "print(sentence.title())\n",
    "print(sentence.strip()) #rstrip() and lstrip()\n",
    "print(sentence.find(\"I\"))\n",
    "print(sentence.find(\"YOU\"))\n",
    "print(sentence.replace(\" \", \"-\"))\n",
    "print(\"Mo\" in sentence)\n",
    "print(\"Gh\" not in sentence)"
   ]
  },
  {
   "attachments": {},
   "cell_type": "markdown",
   "metadata": {},
   "source": [
    "### **2.3.** Numbers"
   ]
  },
  {
   "attachments": {},
   "cell_type": "markdown",
   "metadata": {},
   "source": [
    "#### **2.3.1** Arithmetic Operations"
   ]
  },
  {
   "cell_type": "code",
   "execution_count": 191,
   "metadata": {},
   "outputs": [
    {
     "name": "stdout",
     "output_type": "stream",
     "text": [
      "9.3\n",
      "-3.3\n",
      "18.9\n",
      "0.4761904761904762\n",
      "0.0\n",
      "1013.5937051602978\n",
      "3.0\n"
     ]
    }
   ],
   "source": [
    "a = 3       # Integer number\n",
    "b = 6.3     # Floating point number\n",
    "c = a + 9j  # Complex number\n",
    "\n",
    "print(a + b)\n",
    "print(a - b)\n",
    "print(a * b)\n",
    "print(a / b)\n",
    "print(a // b)\n",
    "print(a ** b)\n",
    "print(a % b)"
   ]
  },
  {
   "attachments": {},
   "cell_type": "markdown",
   "metadata": {},
   "source": [
    "#### **2.3.2.** Augmented Assignment Operator"
   ]
  },
  {
   "cell_type": "code",
   "execution_count": 192,
   "metadata": {},
   "outputs": [],
   "source": [
    "a += b # a = a + b\n",
    "a -= b\n",
    "a *= b\n",
    "a /= b\n",
    "a //= b\n",
    "a **= b\n",
    "a %= b"
   ]
  },
  {
   "attachments": {},
   "cell_type": "markdown",
   "metadata": {},
   "source": [
    "#### **2.3.3.** Math Methods"
   ]
  },
  {
   "cell_type": "code",
   "execution_count": 193,
   "metadata": {},
   "outputs": [
    {
     "name": "stdout",
     "output_type": "stream",
     "text": [
      "3\n",
      "3.141592\n",
      "1.7724536665312298\n",
      "-4\n"
     ]
    }
   ],
   "source": [
    "import math\n",
    "\n",
    "# Python cannot create constant variables, so we name them with upper case letters\n",
    "PI = 3.141592\n",
    "\n",
    "print(round(PI))\n",
    "print(abs(PI))\n",
    "print(math.sqrt(PI))\n",
    "print(math.floor(PI * -1))"
   ]
  },
  {
   "attachments": {},
   "cell_type": "markdown",
   "metadata": {},
   "source": [
    "### **2.4.** Type Conversion"
   ]
  },
  {
   "cell_type": "markdown",
   "metadata": {},
   "source": [
    "**Python is a Strongly Typed language**\n",
    "- the programmer has to implicitly convert the type of variables to match the calculation, otherwise they will get a TypeError"
   ]
  },
  {
   "cell_type": "code",
   "execution_count": 194,
   "metadata": {},
   "outputs": [
    {
     "name": "stdout",
     "output_type": "stream",
     "text": [
      "You were born in the year 1983\n"
     ]
    }
   ],
   "source": [
    "from datetime import datetime\n",
    "from random import randint\n",
    "\n",
    "year = datetime.now().year\n",
    "age = randint(25, 40)\n",
    "\n",
    "# print(year - age) -> since age is of type str, this will throw TypeError\n",
    "print(f\"You were born in the year {year - int(age)}\")"
   ]
  },
  {
   "cell_type": "code",
   "execution_count": 195,
   "metadata": {},
   "outputs": [
    {
     "name": "stdout",
     "output_type": "stream",
     "text": [
      "False\n",
      "False\n",
      "False\n",
      "False\n"
     ]
    }
   ],
   "source": [
    "# Falsy expressions; any thing else return True on bool conversion\n",
    "\n",
    "print(bool(0))\n",
    "print(bool(\"\"))\n",
    "print(bool([]))\n",
    "print(bool(None))\n"
   ]
  }
 ],
 "metadata": {
  "kernelspec": {
   "display_name": "Python 3",
   "language": "python",
   "name": "python3"
  },
  "language_info": {
   "codemirror_mode": {
    "name": "ipython",
    "version": 3
   },
   "file_extension": ".py",
   "mimetype": "text/x-python",
   "name": "python",
   "nbconvert_exporter": "python",
   "pygments_lexer": "ipython3",
   "version": "3.10.6 (main, Nov 14 2022, 16:10:14) [GCC 11.3.0]"
  },
  "orig_nbformat": 4,
  "vscode": {
   "interpreter": {
    "hash": "916dbcbb3f70747c44a77c7bcd40155683ae19c65e1c03b4aa3499c5328201f1"
   }
  }
 },
 "nbformat": 4,
 "nbformat_minor": 2
}
