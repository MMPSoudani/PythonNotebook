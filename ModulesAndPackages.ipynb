{
 "cells": [
  {
   "attachments": {},
   "cell_type": "markdown",
   "metadata": {},
   "source": [
    "# **9.** Modules and Packages"
   ]
  },
  {
   "attachments": {},
   "cell_type": "markdown",
   "metadata": {},
   "source": [
    "* As the program grows, its better to split it into multiple sections (files)\n",
    "* Each of these files are called **modules**\n",
    "* Each module must contain highly related and dependant pieces of code\n",
    "* Regarding naming a module:\n",
    "    * this_is_how_you_should_name_a_module.py\n",
    "* Importing a module into another module:\n",
    "    * **import** another_module\n",
    "    * **from** another_module import another_code\n",
    "    * **from** another_module **import** \\*\n",
    "* the file \\_\\_pycache\\_\\_ contains the loaded modules to speed up their calling"
   ]
  },
  {
   "attachments": {},
   "cell_type": "markdown",
   "metadata": {},
   "source": [
    "* Related Modules can be places inside a folder\n",
    "* A folder with the \\_\\_init\\_\\_.py file in it will be treated as a **Package** by python\n",
    "* A package is a container for one or more modules\n",
    "* Importing a package:\n",
    "    * **import** another_package.another_module\n",
    "    * **from** another_package **import** another_module\n",
    "    * **from** another_package.another_module **import** another_function\n",
    "* There can be packages inside packages"
   ]
  },
  {
   "attachments": {},
   "cell_type": "markdown",
   "metadata": {},
   "source": [
    "* There are two ways to import modules from another package inside a package\n",
    "    1. Absolute Path (PREFERRED METHOD):\n",
    "        * **from** top_lv_package.middle_lv_package.bottom_lv_package **import** something\n",
    "    2. Relative Path:\n",
    "        * ..bottom_lv_package import something"
   ]
  },
  {
   "cell_type": "code",
   "execution_count": 318,
   "metadata": {},
   "outputs": [
    {
     "name": "stdout",
     "output_type": "stream",
     "text": [
      "['BPF', 'LOG4', 'NV_MAGICCONST', 'RECIP_BPF', 'Random', 'SG_MAGICCONST', 'SystemRandom', 'TWOPI', '_ONE', '_Sequence', '_Set', '__all__', '__builtins__', '__cached__', '__doc__', '__file__', '__loader__', '__name__', '__package__', '__spec__', '_accumulate', '_acos', '_bisect', '_ceil', '_cos', '_e', '_exp', '_floor', '_index', '_inst', '_isfinite', '_log', '_os', '_pi', '_random', '_repeat', '_sha512', '_sin', '_sqrt', '_test', '_test_generator', '_urandom', '_warn', 'betavariate', 'choice', 'choices', 'expovariate', 'gammavariate', 'gauss', 'getrandbits', 'getstate', 'lognormvariate', 'normalvariate', 'paretovariate', 'randbytes', 'randint', 'random', 'randrange', 'sample', 'seed', 'setstate', 'shuffle', 'triangular', 'uniform', 'vonmisesvariate', 'weibullvariate']\n"
     ]
    }
   ],
   "source": [
    "# Display the methods and attributes of a module or an object\n",
    "\n",
    "import random\n",
    "\n",
    "print(dir(random))"
   ]
  },
  {
   "cell_type": "code",
   "execution_count": 319,
   "metadata": {},
   "outputs": [
    {
     "name": "stdout",
     "output_type": "stream",
     "text": [
      "random\n",
      "\n",
      "/usr/lib/python3.10/random.py\n"
     ]
    }
   ],
   "source": [
    "# print(random.__doc__)\n",
    "print(random.__name__)\n",
    "print(random.__package__)\n",
    "print(random.__file__)"
   ]
  },
  {
   "attachments": {},
   "cell_type": "markdown",
   "metadata": {},
   "source": [
    "* The \\_\\_name\\_\\_ of the module that start the program is called \\_\\_main\\_\\_\n",
    "* Using the code bellow:\n",
    "    * We can make sure the code inside it are executed when the module is called directly\n",
    "    * If the module is imported, the code inside it will not be executed"
   ]
  },
  {
   "cell_type": "code",
   "execution_count": 320,
   "metadata": {},
   "outputs": [
    {
     "name": "stdout",
     "output_type": "stream",
     "text": [
      "Your code goes here\n"
     ]
    }
   ],
   "source": [
    "if __name__ == \"__main__\":\n",
    "    print(\"Your code goes here\")"
   ]
  }
 ],
 "metadata": {
  "kernelspec": {
   "display_name": "Python 3",
   "language": "python",
   "name": "python3"
  },
  "language_info": {
   "codemirror_mode": {
    "name": "ipython",
    "version": 3
   },
   "file_extension": ".py",
   "mimetype": "text/x-python",
   "name": "python",
   "nbconvert_exporter": "python",
   "pygments_lexer": "ipython3",
   "version": "3.10.6 (main, Nov 14 2022, 16:10:14) [GCC 11.3.0]"
  },
  "orig_nbformat": 4,
  "vscode": {
   "interpreter": {
    "hash": "916dbcbb3f70747c44a77c7bcd40155683ae19c65e1c03b4aa3499c5328201f1"
   }
  }
 },
 "nbformat": 4,
 "nbformat_minor": 2
}
