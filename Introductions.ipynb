{
 "cells": [
  {
   "attachments": {},
   "cell_type": "markdown",
   "metadata": {},
   "source": [
    "# **1.** Introductions"
   ]
  },
  {
   "attachments": {},
   "cell_type": "markdown",
   "metadata": {},
   "source": [
    "### **1.1.** Why Learning and Using Python?"
   ]
  },
  {
   "cell_type": "markdown",
   "metadata": {},
   "source": [
    "* Solve complex problems with less code\n",
    "* Multi-purpose language\n",
    "* Its a high level language\n",
    "* Has a Huge community\n",
    "* Can write cross-platform programs\n",
    "* Have large Library and Frameworks"
   ]
  },
  {
   "attachments": {},
   "cell_type": "markdown",
   "metadata": {},
   "source": [
    "**Python as a language** is a specification that defines a set of rules and grammars for writing Python code<br>\n",
    "**Python as an Implementation** is a program that understand Python rules and execute its code<br>\n",
    "**An Expression** is a piece of code that produces a value<br>\n",
    "**Linting** Is a feature used in IDEs that highlights potential syntax errors<br>"
   ]
  },
  {
   "attachments": {},
   "cell_type": "markdown",
   "metadata": {},
   "source": [
    "### **1.2.** How computers understand programming languages?"
   ]
  },
  {
   "cell_type": "markdown",
   "metadata": {},
   "source": [
    "1. Programming Language -> Source Code File -> Compiler -> Machine Code\n",
    "2. Programming Language -> Source Code File -> Compiler -> Byte Code File -> Virtual Machine -> Machine Language"
   ]
  }
 ],
 "metadata": {
  "kernelspec": {
   "display_name": "Python 3",
   "language": "python",
   "name": "python3"
  },
  "language_info": {
   "codemirror_mode": {
    "name": "ipython",
    "version": 3
   },
   "file_extension": ".py",
   "mimetype": "text/x-python",
   "name": "python",
   "nbconvert_exporter": "python",
   "pygments_lexer": "ipython3",
   "version": "3.10.6 (main, Nov 14 2022, 16:10:14) [GCC 11.3.0]"
  },
  "orig_nbformat": 4,
  "vscode": {
   "interpreter": {
    "hash": "916dbcbb3f70747c44a77c7bcd40155683ae19c65e1c03b4aa3499c5328201f1"
   }
  }
 },
 "nbformat": 4,
 "nbformat_minor": 2
}
