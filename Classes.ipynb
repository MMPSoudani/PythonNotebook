{
 "cells": [
  {
   "attachments": {},
   "cell_type": "markdown",
   "metadata": {},
   "source": [
    "# **8.** Classes"
   ]
  },
  {
   "attachments": {},
   "cell_type": "markdown",
   "metadata": {},
   "source": [
    "**Class:** A blueprint from creating new objects<br>\n",
    "**Object:** An instance of a class\n",
    "\n",
    "* Classes can be used to encapsulate the complexity an processes of an object"
   ]
  },
  {
   "attachments": {},
   "cell_type": "markdown",
   "metadata": {},
   "source": [
    "### **8.1.** Defining a basic class "
   ]
  },
  {
   "cell_type": "code",
   "execution_count": 278,
   "metadata": {},
   "outputs": [],
   "source": [
    "class Point:\n",
    "    default_color = \"black\"\n",
    "    \n",
    "    \n",
    "    def __init__(self, x=0, y=0) -> None:\n",
    "        self.x = x\n",
    "        self.y = y\n",
    "    \n",
    "\n",
    "    def draw(self):\n",
    "        print(f\"({self.x}, {self.y})\")\n",
    "    \n",
    "    # A decorator for converting an instance method to a class method\n",
    "    @classmethod\n",
    "    def zero(cls):\n",
    "        return cls(0, 0)\n",
    "    \n",
    "\n",
    "    def __str__(self):\n",
    "        return f\"({self.x}, {self.y})\"\n",
    "    \n",
    "    \n",
    "    def __repr__(self) -> str:\n",
    "        return self.__str__()\n",
    "    \n",
    "\n",
    "    def __eq__(self, __o: object) -> bool:\n",
    "        return self.x == __o.x and self.y == __o.y\n",
    "    \n",
    "\n",
    "    def __gt__(self, __o: object) -> bool:\n",
    "        return self.x >= __o.x and self.y > __o.y\n",
    "    \n",
    "\n",
    "    def __add__(self, __o: object) -> bool:\n",
    "        return Point(self.x + __o.x, self.y + __o.y)"
   ]
  },
  {
   "cell_type": "code",
   "execution_count": 279,
   "metadata": {},
   "outputs": [
    {
     "name": "stdout",
     "output_type": "stream",
     "text": [
      "(3, 6)\n",
      "3 6\n"
     ]
    }
   ],
   "source": [
    "p1 = Point(3, 6)\n",
    "p1.draw()\n",
    "print(p1.x, p1.y) # Instance attributes belongs only to an instance"
   ]
  },
  {
   "cell_type": "code",
   "execution_count": 280,
   "metadata": {},
   "outputs": [
    {
     "name": "stdout",
     "output_type": "stream",
     "text": [
      "(9, 18)\n",
      "9 18\n"
     ]
    }
   ],
   "source": [
    "p2 = Point(9, 18)\n",
    "p2.draw()\n",
    "print(p2.x, p2.y)"
   ]
  },
  {
   "cell_type": "code",
   "execution_count": 281,
   "metadata": {},
   "outputs": [
    {
     "name": "stdout",
     "output_type": "stream",
     "text": [
      "black\n",
      "black\n",
      "black\n"
     ]
    }
   ],
   "source": [
    "# Class Attributes are shared across all instances of a class\n",
    "\n",
    "print(Point.default_color)\n",
    "print(p1.default_color)\n",
    "print(p2.default_color)"
   ]
  },
  {
   "cell_type": "code",
   "execution_count": 282,
   "metadata": {},
   "outputs": [
    {
     "name": "stdout",
     "output_type": "stream",
     "text": [
      "(0, 0)\n"
     ]
    }
   ],
   "source": [
    "# Creating and calling a class method\n",
    "\n",
    "p3 = Point.zero()\n",
    "p3.draw()"
   ]
  },
  {
   "cell_type": "code",
   "execution_count": 283,
   "metadata": {},
   "outputs": [
    {
     "name": "stdout",
     "output_type": "stream",
     "text": [
      "(0, 0)\n",
      "(3, 6)\n"
     ]
    }
   ],
   "source": [
    "# Calling the __str__ method\n",
    "\n",
    "print(p3)\n",
    "print(str(p1))\n"
   ]
  },
  {
   "cell_type": "code",
   "execution_count": 284,
   "metadata": {},
   "outputs": [
    {
     "name": "stdout",
     "output_type": "stream",
     "text": [
      "False\n",
      "True\n"
     ]
    }
   ],
   "source": [
    "# Comparing two points: Equality\n",
    "\n",
    "print(p1 == p2)\n",
    "\n",
    "p4 = Point(3, 6)\n",
    "print(p1 == p4)"
   ]
  },
  {
   "cell_type": "code",
   "execution_count": 285,
   "metadata": {},
   "outputs": [
    {
     "name": "stdout",
     "output_type": "stream",
     "text": [
      "False\n",
      "True\n"
     ]
    }
   ],
   "source": [
    "# Comparing two points: Greater Than\n",
    "\n",
    "print(p1 > p2)\n",
    "print(p1 < p2)"
   ]
  },
  {
   "cell_type": "code",
   "execution_count": 286,
   "metadata": {},
   "outputs": [
    {
     "name": "stdout",
     "output_type": "stream",
     "text": [
      "(12, 24)\n"
     ]
    }
   ],
   "source": [
    "# Performing Arithmetic Operations: Adding\n",
    "\n",
    "p5 = p1 + p2\n",
    "print(p5)"
   ]
  },
  {
   "attachments": {},
   "cell_type": "markdown",
   "metadata": {},
   "source": [
    "### **8.2.** Defining a custom container"
   ]
  },
  {
   "cell_type": "code",
   "execution_count": 287,
   "metadata": {},
   "outputs": [],
   "source": [
    "class Tags:\n",
    "    def __init__(self) -> None:\n",
    "        # Make variable or method private by using __ before the variable or method name\n",
    "        self.__tags = {}\n",
    "    \n",
    "\n",
    "    def add(self, tag):\n",
    "        self.__tags[tag.lower()] = self.__tags.get(tag.lower(), 0) + 1\n",
    "\n",
    "\n",
    "    def __getitem__(self, key):\n",
    "        return self.__tags.get(self.__tags[key.lower()], -1)\n",
    "    \n",
    "\n",
    "    def __setitem__(self, key, value):\n",
    "        self.__tags[key.lower()] = value\n",
    "    \n",
    "\n",
    "    def __len__(self):\n",
    "        return len(self.__tags)\n",
    "    \n",
    "\n",
    "    def __iter__(self):\n",
    "        # iter(self.tags)\n",
    "        return (_ for _ in self.__tags.items())"
   ]
  },
  {
   "cell_type": "code",
   "execution_count": 288,
   "metadata": {},
   "outputs": [
    {
     "name": "stdout",
     "output_type": "stream",
     "text": [
      "{'_Tags__tags': {}}\n"
     ]
    }
   ],
   "source": [
    "tags = Tags()\n",
    "# Display all the properties of an object\n",
    "print(tags.__dict__)"
   ]
  },
  {
   "attachments": {},
   "cell_type": "markdown",
   "metadata": {},
   "source": [
    "### **8.3.** Properties"
   ]
  },
  {
   "cell_type": "code",
   "execution_count": 289,
   "metadata": {},
   "outputs": [],
   "source": [
    "class Product:\n",
    "    def __init__(self, name, price) -> None:\n",
    "        self.name = name\n",
    "        # assign parameters through instance methods to achieve validations\n",
    "        self.__set_price(price)\n",
    "    \n",
    "\n",
    "    def __get_price(self):\n",
    "        return self.__price\n",
    "    \n",
    "\n",
    "    def __set_price(self, price):\n",
    "        if (isinstance(price, float) or isinstance(price, int)) and price >= 0:\n",
    "            self.__price = price\n",
    "        else:\n",
    "            raise ValueError(\"Price must be a positive number\")\n",
    "    \n",
    "    # can be used instead of above functions with the same functionality\n",
    "    price = property(__get_price, __set_price)\n",
    "\n",
    "    def __str__(self) -> str:\n",
    "        return f\"{self.name} - ${self.price}\""
   ]
  },
  {
   "cell_type": "code",
   "execution_count": 290,
   "metadata": {},
   "outputs": [
    {
     "name": "stdout",
     "output_type": "stream",
     "text": [
      "12.99\n",
      "Mouse - $12.99\n"
     ]
    }
   ],
   "source": [
    "product_1 = Product(\"Mouse\", 12.99)\n",
    "print(product_1.price)\n",
    "print(product_1)"
   ]
  },
  {
   "cell_type": "code",
   "execution_count": 291,
   "metadata": {},
   "outputs": [
    {
     "name": "stdout",
     "output_type": "stream",
     "text": [
      "Value Error: Price must be a positive number\n"
     ]
    }
   ],
   "source": [
    "# Trying to set price to a negative number\n",
    "\n",
    "try:\n",
    "    product_1.price = -5\n",
    "except ValueError as e:\n",
    "    print(f\"Value Error: {e}\")"
   ]
  },
  {
   "cell_type": "code",
   "execution_count": 292,
   "metadata": {},
   "outputs": [],
   "source": [
    "# Reimplementing the Product class with Python best practice for properties\n",
    "\n",
    "class Product:\n",
    "    def __init__(self, name, price) -> None:\n",
    "        self.name = name\n",
    "        self.price = price\n",
    "\n",
    "\n",
    "    @property\n",
    "    def price(self):\n",
    "        return self.__price\n",
    "    \n",
    "    # Remove the setter property to have a read-only attribute\n",
    "    @price.setter\n",
    "    def price(self, price):\n",
    "        if not (isinstance(price, int) or isinstance(price, float)) or price < 0:\n",
    "            raise ValueError(\"Price must be a positive number.\")\n",
    "        self.__price = price\n",
    "    \n",
    "\n",
    "    def __str__(self) -> str:\n",
    "        return f\"{self.name} - ${self.price}\""
   ]
  },
  {
   "cell_type": "code",
   "execution_count": 293,
   "metadata": {},
   "outputs": [
    {
     "name": "stdout",
     "output_type": "stream",
     "text": [
      "27.18\n",
      "GamePad - $27.18\n"
     ]
    }
   ],
   "source": [
    "product_2 = Product(\"GamePad\", 27.18)\n",
    "print(product_2.price)\n",
    "print(product_2)"
   ]
  },
  {
   "cell_type": "code",
   "execution_count": 294,
   "metadata": {},
   "outputs": [
    {
     "name": "stdout",
     "output_type": "stream",
     "text": [
      "Value Error: Price must be a positive number.\n"
     ]
    }
   ],
   "source": [
    "try:\n",
    "    product_2.price = -18\n",
    "except ValueError as e:\n",
    "    print(f\"Value Error: {e}\")"
   ]
  },
  {
   "attachments": {},
   "cell_type": "markdown",
   "metadata": {},
   "source": [
    "### **8.4.** Inheritance"
   ]
  },
  {
   "cell_type": "code",
   "execution_count": 295,
   "metadata": {},
   "outputs": [],
   "source": [
    "# All classes inherit from the class object\n",
    "class Animal:\n",
    "    def __init__(self, species) -> None:\n",
    "        self.species = species\n",
    "\n",
    "    \n",
    "    def eat(self) -> str:\n",
    "        return f\"The {self.species} is eating\"\n",
    "\n",
    "\n",
    "class Bird(Animal):\n",
    "    def __init__(self, species) -> None:\n",
    "        super().__init__(species) # Calls the constructor for the parent class\n",
    "    \n",
    "\n",
    "    def fly(self) -> str:\n",
    "        return f\"The {self.species} is flying\"\n",
    "\n",
    "\n",
    "class Fish(Animal):\n",
    "    def __init__(self, species) -> None:\n",
    "        super().__init__(species)\n",
    "    \n",
    "\n",
    "    def swim(self) -> str:\n",
    "        return f\"The {self.species} is swimming\""
   ]
  },
  {
   "cell_type": "code",
   "execution_count": 296,
   "metadata": {},
   "outputs": [],
   "source": [
    "parrot = Bird(\"Parrot\")\n",
    "shark = Fish(\"Shark\")"
   ]
  },
  {
   "cell_type": "code",
   "execution_count": 297,
   "metadata": {},
   "outputs": [
    {
     "name": "stdout",
     "output_type": "stream",
     "text": [
      "The Parrot is eating\n",
      "The Parrot is flying\n"
     ]
    }
   ],
   "source": [
    "print(parrot.eat())\n",
    "print(parrot.fly())"
   ]
  },
  {
   "cell_type": "code",
   "execution_count": 298,
   "metadata": {},
   "outputs": [
    {
     "name": "stdout",
     "output_type": "stream",
     "text": [
      "The Shark is eating\n",
      "The Shark is swimming\n"
     ]
    }
   ],
   "source": [
    "print(shark.eat())\n",
    "print(shark.swim())"
   ]
  },
  {
   "cell_type": "code",
   "execution_count": 299,
   "metadata": {},
   "outputs": [
    {
     "name": "stdout",
     "output_type": "stream",
     "text": [
      "True\n",
      "True\n",
      "True\n",
      "False\n"
     ]
    }
   ],
   "source": [
    "print(isinstance(parrot, object))\n",
    "print(isinstance(parrot, Animal))\n",
    "print(isinstance(parrot, Bird))\n",
    "print(isinstance(parrot, Fish))"
   ]
  },
  {
   "cell_type": "code",
   "execution_count": 300,
   "metadata": {},
   "outputs": [
    {
     "name": "stdout",
     "output_type": "stream",
     "text": [
      "True\n",
      "True\n",
      "False\n",
      "True\n"
     ]
    }
   ],
   "source": [
    "print(issubclass(Fish, object))\n",
    "print(issubclass(Fish, Animal))\n",
    "print(issubclass(Fish, Bird))\n",
    "print(issubclass(Fish, Fish))"
   ]
  },
  {
   "attachments": {},
   "cell_type": "markdown",
   "metadata": {},
   "source": [
    "### **8.5.** Multi-Level Inheritance:\n",
    "* A hierarchy of classes that inherit from each other\n",
    "* Employee -> Person -> LivingCreature -> ...\n",
    "* Avoid as much as possible"
   ]
  },
  {
   "attachments": {},
   "cell_type": "markdown",
   "metadata": {},
   "source": [
    "### **8.6.** Multiple Inheritance:\n",
    "* A class that inherit from multiple other classes\n",
    "* Bad Example: Manager -> Person + Employee\n",
    "* Good Example: FlyingFish -> Swimmer + Flyer\n",
    "* Becomes complicated when the classes inheriting from have common attributes and methods"
   ]
  },
  {
   "attachments": {},
   "cell_type": "markdown",
   "metadata": {},
   "source": [
    "### **8.7.** ABC: Abstract Base Class"
   ]
  },
  {
   "attachments": {},
   "cell_type": "markdown",
   "metadata": {},
   "source": [
    "* An abstract class cannot be instantiated\n",
    "* All the abstract methods must be implemented in the child classes"
   ]
  },
  {
   "cell_type": "code",
   "execution_count": 301,
   "metadata": {},
   "outputs": [],
   "source": [
    "from abc import ABC, abstractmethod\n",
    "\n",
    "\n",
    "class InvalidOperationError(Exception):\n",
    "    pass\n",
    "\n",
    "\n",
    "class Stream(ABC):\n",
    "    def __init__(self, type) -> None:\n",
    "        self.type = type\n",
    "        self.status = False\n",
    "    \n",
    "    def open(self):\n",
    "        if self.status:\n",
    "            raise InvalidOperationError(f\"{self.type} stream is already open.\")\n",
    "        self.status = True\n",
    "        return f\"{self.type} stream is now open\"\n",
    "    \n",
    "    def close(self):\n",
    "        if not self.status:\n",
    "            raise InvalidOperationError(f\"{self.type} stream is already closed.\")\n",
    "        self.status = False\n",
    "        return f\"{self.type} stream is now closed\"\n",
    "\n",
    "    @abstractmethod\n",
    "    def read(self):\n",
    "        pass"
   ]
  },
  {
   "cell_type": "code",
   "execution_count": 302,
   "metadata": {},
   "outputs": [],
   "source": [
    "class FileStream(Stream):\n",
    "    def __init__(self) -> None:\n",
    "        self.type = \"File\"\n",
    "        super().__init__(self.type)\n",
    "    \n",
    "    def read(self):\n",
    "        if not self.status:\n",
    "            raise InvalidOperationError(\"Cannot read from a closed file stream\")\n",
    "        return \"Reading from the File stream\""
   ]
  },
  {
   "cell_type": "code",
   "execution_count": 303,
   "metadata": {},
   "outputs": [],
   "source": [
    "class VideoStream(Stream):\n",
    "    def __init__(self) -> None:\n",
    "        self.type = \"Video\"\n",
    "        super().__init__(self.type)\n",
    "    \n",
    "    def read(self):\n",
    "        if not self.status:\n",
    "            raise InvalidOperationError(\"Cannot read from a closed Video stream\")\n",
    "        return \"Reading from the Video stream\""
   ]
  },
  {
   "cell_type": "code",
   "execution_count": 304,
   "metadata": {},
   "outputs": [
    {
     "name": "stdout",
     "output_type": "stream",
     "text": [
      "File stream is now open\n",
      "Reading from the File stream\n",
      "File stream is now closed\n"
     ]
    }
   ],
   "source": [
    "file = FileStream()\n",
    "print(file.open())\n",
    "print(file.read())\n",
    "print(file.close())"
   ]
  },
  {
   "cell_type": "code",
   "execution_count": 305,
   "metadata": {},
   "outputs": [
    {
     "name": "stdout",
     "output_type": "stream",
     "text": [
      "Video stream is now open\n",
      "Reading from the Video stream\n",
      "Video stream is now closed\n"
     ]
    }
   ],
   "source": [
    "video = VideoStream()\n",
    "print(video.open())\n",
    "print(video.read())\n",
    "print(video.close())"
   ]
  },
  {
   "attachments": {},
   "cell_type": "markdown",
   "metadata": {},
   "source": [
    "### **8.7.** Polymorphism\n",
    "\n",
    "* Different classes inheriting from an abstract class with abstract methods, can have different implementation for those abstract methods"
   ]
  },
  {
   "cell_type": "code",
   "execution_count": 306,
   "metadata": {},
   "outputs": [],
   "source": [
    "def download(stream: Stream):\n",
    "    print(stream.open())\n",
    "    print(stream.read())\n",
    "    print(stream.close())"
   ]
  },
  {
   "cell_type": "code",
   "execution_count": 307,
   "metadata": {},
   "outputs": [
    {
     "name": "stdout",
     "output_type": "stream",
     "text": [
      "File stream is now open\n",
      "Reading from the File stream\n",
      "File stream is now closed\n"
     ]
    }
   ],
   "source": [
    "my_file = FileStream()\n",
    "download(my_file)"
   ]
  },
  {
   "cell_type": "code",
   "execution_count": 308,
   "metadata": {},
   "outputs": [
    {
     "name": "stdout",
     "output_type": "stream",
     "text": [
      "Video stream is now open\n",
      "Reading from the Video stream\n",
      "Video stream is now closed\n"
     ]
    }
   ],
   "source": [
    "my_video = VideoStream()\n",
    "download(my_video)"
   ]
  },
  {
   "attachments": {},
   "cell_type": "markdown",
   "metadata": {},
   "source": [
    "### **8.8.** Duck Typing"
   ]
  },
  {
   "cell_type": "code",
   "execution_count": 309,
   "metadata": {},
   "outputs": [],
   "source": [
    "class Pencil:\n",
    "    def draw(self):\n",
    "        print(\"Drawing with a Pencil\")\n",
    "\n",
    "\n",
    "class Pen:\n",
    "    def draw(self):\n",
    "        print(\"Drawing with a Pen\")\n",
    "\n",
    "\n",
    "def drawing(items):\n",
    "    for item in items:\n",
    "        item.draw()"
   ]
  },
  {
   "cell_type": "code",
   "execution_count": 310,
   "metadata": {},
   "outputs": [
    {
     "name": "stdout",
     "output_type": "stream",
     "text": [
      "Drawing with a Pencil\n",
      "Drawing with a Pen\n"
     ]
    }
   ],
   "source": [
    "pencil = Pencil()\n",
    "pen = Pen()\n",
    "\n",
    "drawing([pencil, pen])"
   ]
  },
  {
   "attachments": {},
   "cell_type": "markdown",
   "metadata": {},
   "source": [
    "### **8.9.** Extending classes"
   ]
  },
  {
   "attachments": {},
   "cell_type": "markdown",
   "metadata": {},
   "source": [
    "* Creating custom classes that inherit from built-in classes\n",
    "    * Add new attributes and functions\n",
    "    * Use the inherited attributes and methods\n",
    "    * Modify the inherited attributes and methods"
   ]
  },
  {
   "cell_type": "code",
   "execution_count": 311,
   "metadata": {},
   "outputs": [],
   "source": [
    "# Adding\n",
    "\n",
    "class Text(str):\n",
    "    def duplicate(self):\n",
    "        return self + self"
   ]
  },
  {
   "cell_type": "code",
   "execution_count": 312,
   "metadata": {},
   "outputs": [],
   "source": [
    "# Modifying\n",
    "\n",
    "class NewList(list):\n",
    "    def append(self, __object) -> None:\n",
    "        print(f\"{__object} is added to the list\")\n",
    "        return super().append(__object)"
   ]
  },
  {
   "attachments": {},
   "cell_type": "markdown",
   "metadata": {},
   "source": [
    "### **8.10.** Data Classes"
   ]
  },
  {
   "attachments": {},
   "cell_type": "markdown",
   "metadata": {},
   "source": [
    "* Use **NamedTuples** for data classes\n",
    "    * Instead of implementing the related methods\n",
    "    * The data class does not have a method\n",
    "    * Modifying the value of the attributes after instantiation is not and issue"
   ]
  },
  {
   "cell_type": "code",
   "execution_count": 313,
   "metadata": {},
   "outputs": [],
   "source": [
    "from collections import namedtuple\n",
    "\n",
    "\n",
    "Point = namedtuple(\"Point\", [\"x\", \"y\"])\n",
    "\n",
    "p1 = Point(x=9, y=18)\n",
    "p2 = Point(x=6, y=3)"
   ]
  },
  {
   "cell_type": "code",
   "execution_count": 314,
   "metadata": {},
   "outputs": [
    {
     "name": "stdout",
     "output_type": "stream",
     "text": [
      "Point(x=9, y=18)\n",
      "Point(x=6, y=3)\n"
     ]
    }
   ],
   "source": [
    "print(p1)\n",
    "print(p2)"
   ]
  },
  {
   "cell_type": "code",
   "execution_count": 315,
   "metadata": {},
   "outputs": [
    {
     "name": "stdout",
     "output_type": "stream",
     "text": [
      "True\n"
     ]
    }
   ],
   "source": [
    "print(p1 > p2)"
   ]
  },
  {
   "cell_type": "code",
   "execution_count": 316,
   "metadata": {},
   "outputs": [
    {
     "name": "stdout",
     "output_type": "stream",
     "text": [
      "(9, 18, 6, 3)\n"
     ]
    }
   ],
   "source": [
    "print(p1 + p2)"
   ]
  },
  {
   "attachments": {},
   "cell_type": "markdown",
   "metadata": {},
   "source": [
    "### **8.11.** Docstring"
   ]
  },
  {
   "cell_type": "code",
   "execution_count": 317,
   "metadata": {},
   "outputs": [],
   "source": [
    "from pathlib import Path\n",
    "\n",
    "\n",
    "class Convertor:\n",
    "    \"\"\"A simple convertor to convert pdf files into text files\"\"\"\n",
    "\n",
    "    def convert(self, path: Path) -> None:\n",
    "        \"\"\"\n",
    "        Convert a pdf to text and save the text as .txt file\n",
    "\n",
    "        parameters:\n",
    "        path (Path): the location of the pdf file\n",
    "\n",
    "        returns:\n",
    "        None\n",
    "        \"\"\"\n",
    "        print(\"Conversion Completed\")"
   ]
  }
 ],
 "metadata": {
  "kernelspec": {
   "display_name": "Python 3",
   "language": "python",
   "name": "python3"
  },
  "language_info": {
   "codemirror_mode": {
    "name": "ipython",
    "version": 3
   },
   "file_extension": ".py",
   "mimetype": "text/x-python",
   "name": "python",
   "nbconvert_exporter": "python",
   "pygments_lexer": "ipython3",
   "version": "3.10.6 (main, Nov 14 2022, 16:10:14) [GCC 11.3.0]"
  },
  "orig_nbformat": 4,
  "vscode": {
   "interpreter": {
    "hash": "916dbcbb3f70747c44a77c7bcd40155683ae19c65e1c03b4aa3499c5328201f1"
   }
  }
 },
 "nbformat": 4,
 "nbformat_minor": 2
}
