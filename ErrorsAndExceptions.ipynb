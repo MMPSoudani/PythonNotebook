{
 "cells": [
  {
   "attachments": {},
   "cell_type": "markdown",
   "metadata": {},
   "source": [
    "# **7.** Errors and Exceptions"
   ]
  },
  {
   "cell_type": "code",
   "execution_count": 270,
   "metadata": {},
   "outputs": [
    {
     "name": "stdout",
     "output_type": "stream",
     "text": [
      "list index out of range\n"
     ]
    }
   ],
   "source": [
    "# Single exception\n",
    "\n",
    "try:\n",
    "    numbers = [1, 2, 3]\n",
    "    print(numbers[3])\n",
    "except IndexError as e:\n",
    "    print(e)"
   ]
  },
  {
   "cell_type": "code",
   "execution_count": 271,
   "metadata": {},
   "outputs": [
    {
     "name": "stdout",
     "output_type": "stream",
     "text": [
      "invalid literal for int() with base 10: 'Hello'\n"
     ]
    }
   ],
   "source": [
    "# Multiple exceptions\n",
    "\n",
    "from random import choice\n",
    "\n",
    "try:\n",
    "    result = int(choice([\"Hello\", 1, \"World\", 2]))\n",
    "    result = result / choice([0, 1])\n",
    "    print(result)\n",
    "except (ValueError, ZeroDivisionError) as e:\n",
    "    print(e)\n",
    "# except ZeroDivisionError as e:\n",
    "#     print(e)\n",
    "else:\n",
    "    print(\"Done Successfully\")"
   ]
  },
  {
   "cell_type": "code",
   "execution_count": 272,
   "metadata": {},
   "outputs": [
    {
     "name": "stdout",
     "output_type": "stream",
     "text": [
      "Done Reading the Notebook\n",
      "File got closed successfully\n"
     ]
    }
   ],
   "source": [
    "# using else and finally blocks\n",
    "\n",
    "try:\n",
    "    file = open(\"PythonHandbook.ipynb\", \"r\")\n",
    "    file.read()\n",
    "except FileNotFoundError as e:\n",
    "    print(e)\n",
    "else:\n",
    "    print(\"Done Reading the Notebook\")\n",
    "finally:\n",
    "    file.close()\n",
    "    print(\"File got closed successfully\")"
   ]
  },
  {
   "cell_type": "code",
   "execution_count": 273,
   "metadata": {},
   "outputs": [],
   "source": [
    "# Using with block to open a file instead of try except block\n",
    "\n",
    "with open(\"PythonHandbook.ipynb\", \"r\") as file:\n",
    "    file.read()\n",
    "# The file is close automatically after exiting the with block"
   ]
  },
  {
   "cell_type": "code",
   "execution_count": 274,
   "metadata": {},
   "outputs": [
    {
     "name": "stdout",
     "output_type": "stream",
     "text": [
      "You must supply a string value\n"
     ]
    }
   ],
   "source": [
    "# raising an exception\n",
    "\n",
    "result = choice([1, \"Hello\", 2, \"World\"])\n",
    "\n",
    "try:\n",
    "    if isinstance(result, int):\n",
    "        raise ValueError(\"You must supply a string value\")\n",
    "except ValueError as e:\n",
    "    print(e)"
   ]
  },
  {
   "cell_type": "code",
   "execution_count": 275,
   "metadata": {},
   "outputs": [
    {
     "name": "stdout",
     "output_type": "stream",
     "text": [
      "Code 1: 0.013972283002658514\n",
      "Code 2: 0.007309985001484165\n"
     ]
    }
   ],
   "source": [
    "# Its better to avoid raising exception\n",
    "\n",
    "from timeit import timeit\n",
    "\n",
    "code_1 = \"\"\"\n",
    "from datetime import datetime\n",
    "\n",
    "def get_birth_year(age):\n",
    "    if not isinstance(age, int) or age <= 0:\n",
    "        raise ValueError(\"Age must be a number and above 0\")\n",
    "    \n",
    "    return now().year - age\n",
    "\n",
    "try:\n",
    "    get_birth_year(\"a\")\n",
    "except ValueError as e:\n",
    "    pass\n",
    "\"\"\"\n",
    "\n",
    "code_2 = \"\"\"\n",
    "from datetime import datetime\n",
    "\n",
    "def get_birth_year(age):\n",
    "    if not isinstance(age, int) or age <= 0:\n",
    "        return None\n",
    "    return now().year - age\n",
    "\n",
    "get_birth_year(\"a\")\n",
    "\"\"\"\n",
    "\n",
    "print(f\"Code 1: {timeit(code_1, number=10000)}\")\n",
    "print(f\"Code 2: {timeit(code_2, number=10000)}\")"
   ]
  },
  {
   "cell_type": "code",
   "execution_count": 276,
   "metadata": {},
   "outputs": [
    {
     "name": "stdout",
     "output_type": "stream",
     "text": [
      "This is not a string\n"
     ]
    }
   ],
   "source": [
    "# Assertion\n",
    "\n",
    "try:\n",
    "    x = 1\n",
    "    assert isinstance(x, str), \"This is not a string\"\n",
    "except AssertionError as e:\n",
    "    print(e)"
   ]
  },
  {
   "cell_type": "code",
   "execution_count": 277,
   "metadata": {},
   "outputs": [
    {
     "name": "stdout",
     "output_type": "stream",
     "text": [
      "<class '__main__.CustomException'>, This is my custom exception\n"
     ]
    }
   ],
   "source": [
    "# Creating a custom exception\n",
    "\n",
    "class CustomException(Exception):\n",
    "    pass\n",
    "\n",
    "\n",
    "try:\n",
    "    raise CustomException(\"This is my custom exception\")\n",
    "except CustomException as e:\n",
    "    print(f\"{type(e)}, {e}\")"
   ]
  }
 ],
 "metadata": {
  "kernelspec": {
   "display_name": "Python 3",
   "language": "python",
   "name": "python3"
  },
  "language_info": {
   "codemirror_mode": {
    "name": "ipython",
    "version": 3
   },
   "file_extension": ".py",
   "mimetype": "text/x-python",
   "name": "python",
   "nbconvert_exporter": "python",
   "pygments_lexer": "ipython3",
   "version": "3.10.6"
  },
  "orig_nbformat": 4,
  "vscode": {
   "interpreter": {
    "hash": "916dbcbb3f70747c44a77c7bcd40155683ae19c65e1c03b4aa3499c5328201f1"
   }
  }
 },
 "nbformat": 4,
 "nbformat_minor": 2
}
